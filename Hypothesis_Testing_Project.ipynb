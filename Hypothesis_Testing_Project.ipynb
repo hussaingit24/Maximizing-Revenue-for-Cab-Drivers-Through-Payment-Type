{
 "cells": [
  {
   "cell_type": "markdown",
   "id": "f69c50dd-f7b4-4288-9813-330337230f2e",
   "metadata": {},
   "source": [
    "# Maximizing Revenue For Cab Drivers-Through Payment Type"
   ]
  },
  {
   "cell_type": "markdown",
   "id": "bf0eccf6-f529-4891-a306-a5a3fb3321e6",
   "metadata": {},
   "source": [
    "## **Problem Statement**\n",
    "\n",
    "In the fast-paced taxi booking sector, maximizing revenue is crucial for long-term success and driver happiness. Our goal is to leverage data-driven insights to optimize revenue streams for taxi drivers. To achieve this, our research aims to determine whether payment methods have an impact on fare pricing by focusing on the relationship between payment type and fare amount.\n",
    "\n",
    "## **Objective**\n",
    "\n",
    "The primary objective of this project is to conduct an A/B test to examine the relationship between total fare and the method of payment. We will employ Python hypothesis testing and descriptive statistics to extract valuable information that can help taxi drivers generate more revenue. Specifically, we aim to identify if there is a significant difference in fares between those who pay with credit cards and those who pay with cash.\n",
    "\n",
    "## **Research Question**\n",
    "\n",
    "Is there a correlation between total fare amount and payment type? Additionally, can we strategically nudge customers towards payment methods that generate higher revenue for drivers without compromising customer experience?\n"
   ]
  },
  {
   "cell_type": "markdown",
   "id": "3d9abafe-a856-473d-a013-6776349d0336",
   "metadata": {},
   "source": [
    "### Importing Essential Libraries "
   ]
  },
  {
   "cell_type": "code",
   "execution_count": 1,
   "id": "a61ca79b-005b-4cdb-acdd-28fd04b98e12",
   "metadata": {
    "tags": []
   },
   "outputs": [],
   "source": [
    "import pandas as pd\n",
    "import scipy.stats as st\n",
    "import matplotlib.pyplot as plt\n",
    "import seaborn as sns\n",
    "import statsmodels.api as sm\n",
    "import warnings\n",
    "warnings.filterwarnings('ignore')"
   ]
  },
  {
   "cell_type": "markdown",
   "id": "e4948156-817e-484e-ab9f-4fba98c35575",
   "metadata": {},
   "source": [
    "### Loading the Dataset"
   ]
  },
  {
   "cell_type": "code",
   "execution_count": 2,
   "id": "35a1e5e4-9ad2-4962-9ad9-909fa78a41f2",
   "metadata": {
    "tags": []
   },
   "outputs": [],
   "source": [
    "df = pd.read_csv('C:/Users/hi/Downloads/trip_data_2020.csv')"
   ]
  },
  {
   "cell_type": "markdown",
   "id": "4ce2719c-2d89-43ff-9250-0d1840c61eb4",
   "metadata": {
    "tags": []
   },
   "source": [
    "### Exploring The Data Structure"
   ]
  },
  {
   "cell_type": "code",
   "execution_count": 3,
   "id": "52b61243-3700-40c4-8df8-1519ea86810a",
   "metadata": {
    "tags": []
   },
   "outputs": [
    {
     "data": {
      "text/html": [
       "<div>\n",
       "<style scoped>\n",
       "    .dataframe tbody tr th:only-of-type {\n",
       "        vertical-align: middle;\n",
       "    }\n",
       "\n",
       "    .dataframe tbody tr th {\n",
       "        vertical-align: top;\n",
       "    }\n",
       "\n",
       "    .dataframe thead th {\n",
       "        text-align: right;\n",
       "    }\n",
       "</style>\n",
       "<table border=\"1\" class=\"dataframe\">\n",
       "  <thead>\n",
       "    <tr style=\"text-align: right;\">\n",
       "      <th></th>\n",
       "      <th>VendorID</th>\n",
       "      <th>tpep_pickup_datetime</th>\n",
       "      <th>tpep_dropoff_datetime</th>\n",
       "      <th>passenger_count</th>\n",
       "      <th>trip_distance</th>\n",
       "      <th>RatecodeID</th>\n",
       "      <th>store_and_fwd_flag</th>\n",
       "      <th>PULocationID</th>\n",
       "      <th>DOLocationID</th>\n",
       "      <th>payment_type</th>\n",
       "      <th>fare_amount</th>\n",
       "      <th>extra</th>\n",
       "      <th>mta_tax</th>\n",
       "      <th>tip_amount</th>\n",
       "      <th>tolls_amount</th>\n",
       "      <th>improvement_surcharge</th>\n",
       "      <th>total_amount</th>\n",
       "      <th>congestion_surcharge</th>\n",
       "    </tr>\n",
       "  </thead>\n",
       "  <tbody>\n",
       "    <tr>\n",
       "      <th>0</th>\n",
       "      <td>1.0</td>\n",
       "      <td>2020-01-01 00:28:15</td>\n",
       "      <td>2020-01-01 00:33:03</td>\n",
       "      <td>1.0</td>\n",
       "      <td>1.20</td>\n",
       "      <td>1.0</td>\n",
       "      <td>N</td>\n",
       "      <td>238</td>\n",
       "      <td>239</td>\n",
       "      <td>1.0</td>\n",
       "      <td>6.00</td>\n",
       "      <td>3.0</td>\n",
       "      <td>0.5</td>\n",
       "      <td>1.47</td>\n",
       "      <td>0.0</td>\n",
       "      <td>0.3</td>\n",
       "      <td>11.27</td>\n",
       "      <td>2.5</td>\n",
       "    </tr>\n",
       "    <tr>\n",
       "      <th>1</th>\n",
       "      <td>1.0</td>\n",
       "      <td>2020-01-01 00:35:39</td>\n",
       "      <td>2020-01-01 00:43:04</td>\n",
       "      <td>1.0</td>\n",
       "      <td>1.20</td>\n",
       "      <td>1.0</td>\n",
       "      <td>N</td>\n",
       "      <td>239</td>\n",
       "      <td>238</td>\n",
       "      <td>1.0</td>\n",
       "      <td>7.00</td>\n",
       "      <td>3.0</td>\n",
       "      <td>0.5</td>\n",
       "      <td>1.50</td>\n",
       "      <td>0.0</td>\n",
       "      <td>0.3</td>\n",
       "      <td>12.30</td>\n",
       "      <td>2.5</td>\n",
       "    </tr>\n",
       "    <tr>\n",
       "      <th>2</th>\n",
       "      <td>1.0</td>\n",
       "      <td>2020-01-01 00:47:41</td>\n",
       "      <td>2020-01-01 00:53:52</td>\n",
       "      <td>1.0</td>\n",
       "      <td>0.60</td>\n",
       "      <td>1.0</td>\n",
       "      <td>N</td>\n",
       "      <td>238</td>\n",
       "      <td>238</td>\n",
       "      <td>1.0</td>\n",
       "      <td>6.00</td>\n",
       "      <td>3.0</td>\n",
       "      <td>0.5</td>\n",
       "      <td>1.00</td>\n",
       "      <td>0.0</td>\n",
       "      <td>0.3</td>\n",
       "      <td>10.80</td>\n",
       "      <td>2.5</td>\n",
       "    </tr>\n",
       "    <tr>\n",
       "      <th>3</th>\n",
       "      <td>1.0</td>\n",
       "      <td>2020-01-01 00:55:23</td>\n",
       "      <td>2020-01-01 01:00:14</td>\n",
       "      <td>1.0</td>\n",
       "      <td>0.80</td>\n",
       "      <td>1.0</td>\n",
       "      <td>N</td>\n",
       "      <td>238</td>\n",
       "      <td>151</td>\n",
       "      <td>1.0</td>\n",
       "      <td>5.50</td>\n",
       "      <td>0.5</td>\n",
       "      <td>0.5</td>\n",
       "      <td>1.36</td>\n",
       "      <td>0.0</td>\n",
       "      <td>0.3</td>\n",
       "      <td>8.16</td>\n",
       "      <td>0.0</td>\n",
       "    </tr>\n",
       "    <tr>\n",
       "      <th>4</th>\n",
       "      <td>2.0</td>\n",
       "      <td>2020-01-01 00:01:58</td>\n",
       "      <td>2020-01-01 00:04:16</td>\n",
       "      <td>1.0</td>\n",
       "      <td>0.00</td>\n",
       "      <td>1.0</td>\n",
       "      <td>N</td>\n",
       "      <td>193</td>\n",
       "      <td>193</td>\n",
       "      <td>2.0</td>\n",
       "      <td>3.50</td>\n",
       "      <td>0.5</td>\n",
       "      <td>0.5</td>\n",
       "      <td>0.00</td>\n",
       "      <td>0.0</td>\n",
       "      <td>0.3</td>\n",
       "      <td>4.80</td>\n",
       "      <td>0.0</td>\n",
       "    </tr>\n",
       "    <tr>\n",
       "      <th>5</th>\n",
       "      <td>2.0</td>\n",
       "      <td>2020-01-01 00:09:44</td>\n",
       "      <td>2020-01-01 00:10:37</td>\n",
       "      <td>1.0</td>\n",
       "      <td>0.03</td>\n",
       "      <td>1.0</td>\n",
       "      <td>N</td>\n",
       "      <td>7</td>\n",
       "      <td>193</td>\n",
       "      <td>2.0</td>\n",
       "      <td>2.50</td>\n",
       "      <td>0.5</td>\n",
       "      <td>0.5</td>\n",
       "      <td>0.00</td>\n",
       "      <td>0.0</td>\n",
       "      <td>0.3</td>\n",
       "      <td>3.80</td>\n",
       "      <td>0.0</td>\n",
       "    </tr>\n",
       "    <tr>\n",
       "      <th>6</th>\n",
       "      <td>2.0</td>\n",
       "      <td>2020-01-01 00:39:25</td>\n",
       "      <td>2020-01-01 00:39:29</td>\n",
       "      <td>1.0</td>\n",
       "      <td>0.00</td>\n",
       "      <td>1.0</td>\n",
       "      <td>N</td>\n",
       "      <td>193</td>\n",
       "      <td>193</td>\n",
       "      <td>1.0</td>\n",
       "      <td>2.50</td>\n",
       "      <td>0.5</td>\n",
       "      <td>0.5</td>\n",
       "      <td>0.01</td>\n",
       "      <td>0.0</td>\n",
       "      <td>0.3</td>\n",
       "      <td>3.81</td>\n",
       "      <td>0.0</td>\n",
       "    </tr>\n",
       "    <tr>\n",
       "      <th>7</th>\n",
       "      <td>2.0</td>\n",
       "      <td>2019-12-18 15:27:49</td>\n",
       "      <td>2019-12-18 15:28:59</td>\n",
       "      <td>1.0</td>\n",
       "      <td>0.00</td>\n",
       "      <td>5.0</td>\n",
       "      <td>N</td>\n",
       "      <td>193</td>\n",
       "      <td>193</td>\n",
       "      <td>1.0</td>\n",
       "      <td>0.01</td>\n",
       "      <td>0.0</td>\n",
       "      <td>0.0</td>\n",
       "      <td>0.00</td>\n",
       "      <td>0.0</td>\n",
       "      <td>0.3</td>\n",
       "      <td>2.81</td>\n",
       "      <td>2.5</td>\n",
       "    </tr>\n",
       "    <tr>\n",
       "      <th>8</th>\n",
       "      <td>2.0</td>\n",
       "      <td>2019-12-18 15:30:35</td>\n",
       "      <td>2019-12-18 15:31:35</td>\n",
       "      <td>4.0</td>\n",
       "      <td>0.00</td>\n",
       "      <td>1.0</td>\n",
       "      <td>N</td>\n",
       "      <td>193</td>\n",
       "      <td>193</td>\n",
       "      <td>1.0</td>\n",
       "      <td>2.50</td>\n",
       "      <td>0.5</td>\n",
       "      <td>0.5</td>\n",
       "      <td>0.00</td>\n",
       "      <td>0.0</td>\n",
       "      <td>0.3</td>\n",
       "      <td>6.30</td>\n",
       "      <td>2.5</td>\n",
       "    </tr>\n",
       "    <tr>\n",
       "      <th>9</th>\n",
       "      <td>1.0</td>\n",
       "      <td>2020-01-01 00:29:01</td>\n",
       "      <td>2020-01-01 00:40:28</td>\n",
       "      <td>2.0</td>\n",
       "      <td>0.70</td>\n",
       "      <td>1.0</td>\n",
       "      <td>N</td>\n",
       "      <td>246</td>\n",
       "      <td>48</td>\n",
       "      <td>1.0</td>\n",
       "      <td>8.00</td>\n",
       "      <td>3.0</td>\n",
       "      <td>0.5</td>\n",
       "      <td>2.35</td>\n",
       "      <td>0.0</td>\n",
       "      <td>0.3</td>\n",
       "      <td>14.15</td>\n",
       "      <td>2.5</td>\n",
       "    </tr>\n",
       "  </tbody>\n",
       "</table>\n",
       "</div>"
      ],
      "text/plain": [
       "   VendorID tpep_pickup_datetime tpep_dropoff_datetime  passenger_count  \\\n",
       "0       1.0  2020-01-01 00:28:15   2020-01-01 00:33:03              1.0   \n",
       "1       1.0  2020-01-01 00:35:39   2020-01-01 00:43:04              1.0   \n",
       "2       1.0  2020-01-01 00:47:41   2020-01-01 00:53:52              1.0   \n",
       "3       1.0  2020-01-01 00:55:23   2020-01-01 01:00:14              1.0   \n",
       "4       2.0  2020-01-01 00:01:58   2020-01-01 00:04:16              1.0   \n",
       "5       2.0  2020-01-01 00:09:44   2020-01-01 00:10:37              1.0   \n",
       "6       2.0  2020-01-01 00:39:25   2020-01-01 00:39:29              1.0   \n",
       "7       2.0  2019-12-18 15:27:49   2019-12-18 15:28:59              1.0   \n",
       "8       2.0  2019-12-18 15:30:35   2019-12-18 15:31:35              4.0   \n",
       "9       1.0  2020-01-01 00:29:01   2020-01-01 00:40:28              2.0   \n",
       "\n",
       "   trip_distance  RatecodeID store_and_fwd_flag  PULocationID  DOLocationID  \\\n",
       "0           1.20         1.0                  N           238           239   \n",
       "1           1.20         1.0                  N           239           238   \n",
       "2           0.60         1.0                  N           238           238   \n",
       "3           0.80         1.0                  N           238           151   \n",
       "4           0.00         1.0                  N           193           193   \n",
       "5           0.03         1.0                  N             7           193   \n",
       "6           0.00         1.0                  N           193           193   \n",
       "7           0.00         5.0                  N           193           193   \n",
       "8           0.00         1.0                  N           193           193   \n",
       "9           0.70         1.0                  N           246            48   \n",
       "\n",
       "   payment_type  fare_amount  extra  mta_tax  tip_amount  tolls_amount  \\\n",
       "0           1.0         6.00    3.0      0.5        1.47           0.0   \n",
       "1           1.0         7.00    3.0      0.5        1.50           0.0   \n",
       "2           1.0         6.00    3.0      0.5        1.00           0.0   \n",
       "3           1.0         5.50    0.5      0.5        1.36           0.0   \n",
       "4           2.0         3.50    0.5      0.5        0.00           0.0   \n",
       "5           2.0         2.50    0.5      0.5        0.00           0.0   \n",
       "6           1.0         2.50    0.5      0.5        0.01           0.0   \n",
       "7           1.0         0.01    0.0      0.0        0.00           0.0   \n",
       "8           1.0         2.50    0.5      0.5        0.00           0.0   \n",
       "9           1.0         8.00    3.0      0.5        2.35           0.0   \n",
       "\n",
       "   improvement_surcharge  total_amount  congestion_surcharge  \n",
       "0                    0.3         11.27                   2.5  \n",
       "1                    0.3         12.30                   2.5  \n",
       "2                    0.3         10.80                   2.5  \n",
       "3                    0.3          8.16                   0.0  \n",
       "4                    0.3          4.80                   0.0  \n",
       "5                    0.3          3.80                   0.0  \n",
       "6                    0.3          3.81                   0.0  \n",
       "7                    0.3          2.81                   2.5  \n",
       "8                    0.3          6.30                   2.5  \n",
       "9                    0.3         14.15                   2.5  "
      ]
     },
     "execution_count": 3,
     "metadata": {},
     "output_type": "execute_result"
    }
   ],
   "source": [
    "df.head(10)"
   ]
  },
  {
   "cell_type": "code",
   "execution_count": 4,
   "id": "44164801-8dee-4c04-9324-5abe1562dc6b",
   "metadata": {
    "tags": []
   },
   "outputs": [
    {
     "data": {
      "text/html": [
       "<div>\n",
       "<style scoped>\n",
       "    .dataframe tbody tr th:only-of-type {\n",
       "        vertical-align: middle;\n",
       "    }\n",
       "\n",
       "    .dataframe tbody tr th {\n",
       "        vertical-align: top;\n",
       "    }\n",
       "\n",
       "    .dataframe thead th {\n",
       "        text-align: right;\n",
       "    }\n",
       "</style>\n",
       "<table border=\"1\" class=\"dataframe\">\n",
       "  <thead>\n",
       "    <tr style=\"text-align: right;\">\n",
       "      <th></th>\n",
       "      <th>VendorID</th>\n",
       "      <th>tpep_pickup_datetime</th>\n",
       "      <th>tpep_dropoff_datetime</th>\n",
       "      <th>passenger_count</th>\n",
       "      <th>trip_distance</th>\n",
       "      <th>RatecodeID</th>\n",
       "      <th>store_and_fwd_flag</th>\n",
       "      <th>PULocationID</th>\n",
       "      <th>DOLocationID</th>\n",
       "      <th>payment_type</th>\n",
       "      <th>fare_amount</th>\n",
       "      <th>extra</th>\n",
       "      <th>mta_tax</th>\n",
       "      <th>tip_amount</th>\n",
       "      <th>tolls_amount</th>\n",
       "      <th>improvement_surcharge</th>\n",
       "      <th>total_amount</th>\n",
       "      <th>congestion_surcharge</th>\n",
       "    </tr>\n",
       "  </thead>\n",
       "  <tbody>\n",
       "    <tr>\n",
       "      <th>6405003</th>\n",
       "      <td>NaN</td>\n",
       "      <td>2020-01-31 22:51:00</td>\n",
       "      <td>2020-01-31 23:22:00</td>\n",
       "      <td>NaN</td>\n",
       "      <td>3.24</td>\n",
       "      <td>NaN</td>\n",
       "      <td>NaN</td>\n",
       "      <td>237</td>\n",
       "      <td>234</td>\n",
       "      <td>NaN</td>\n",
       "      <td>17.59</td>\n",
       "      <td>2.75</td>\n",
       "      <td>0.5</td>\n",
       "      <td>0.0</td>\n",
       "      <td>0.00</td>\n",
       "      <td>0.3</td>\n",
       "      <td>21.14</td>\n",
       "      <td>0.0</td>\n",
       "    </tr>\n",
       "    <tr>\n",
       "      <th>6405004</th>\n",
       "      <td>NaN</td>\n",
       "      <td>2020-01-31 22:10:00</td>\n",
       "      <td>2020-01-31 23:26:00</td>\n",
       "      <td>NaN</td>\n",
       "      <td>22.13</td>\n",
       "      <td>NaN</td>\n",
       "      <td>NaN</td>\n",
       "      <td>259</td>\n",
       "      <td>45</td>\n",
       "      <td>NaN</td>\n",
       "      <td>46.67</td>\n",
       "      <td>2.75</td>\n",
       "      <td>0.5</td>\n",
       "      <td>0.0</td>\n",
       "      <td>12.24</td>\n",
       "      <td>0.3</td>\n",
       "      <td>62.46</td>\n",
       "      <td>0.0</td>\n",
       "    </tr>\n",
       "    <tr>\n",
       "      <th>6405005</th>\n",
       "      <td>NaN</td>\n",
       "      <td>2020-01-31 22:50:07</td>\n",
       "      <td>2020-01-31 23:17:57</td>\n",
       "      <td>NaN</td>\n",
       "      <td>10.51</td>\n",
       "      <td>NaN</td>\n",
       "      <td>NaN</td>\n",
       "      <td>137</td>\n",
       "      <td>169</td>\n",
       "      <td>NaN</td>\n",
       "      <td>48.85</td>\n",
       "      <td>2.75</td>\n",
       "      <td>0.0</td>\n",
       "      <td>0.0</td>\n",
       "      <td>0.00</td>\n",
       "      <td>0.3</td>\n",
       "      <td>51.90</td>\n",
       "      <td>0.0</td>\n",
       "    </tr>\n",
       "    <tr>\n",
       "      <th>6405006</th>\n",
       "      <td>NaN</td>\n",
       "      <td>2020-01-31 22:25:53</td>\n",
       "      <td>2020-01-31 22:48:32</td>\n",
       "      <td>NaN</td>\n",
       "      <td>5.49</td>\n",
       "      <td>NaN</td>\n",
       "      <td>NaN</td>\n",
       "      <td>50</td>\n",
       "      <td>42</td>\n",
       "      <td>NaN</td>\n",
       "      <td>27.17</td>\n",
       "      <td>2.75</td>\n",
       "      <td>0.0</td>\n",
       "      <td>0.0</td>\n",
       "      <td>0.00</td>\n",
       "      <td>0.3</td>\n",
       "      <td>30.22</td>\n",
       "      <td>0.0</td>\n",
       "    </tr>\n",
       "    <tr>\n",
       "      <th>6405007</th>\n",
       "      <td>NaN</td>\n",
       "      <td>2020-01-31 22:44:00</td>\n",
       "      <td>2020-01-31 23:06:00</td>\n",
       "      <td>NaN</td>\n",
       "      <td>11.60</td>\n",
       "      <td>NaN</td>\n",
       "      <td>NaN</td>\n",
       "      <td>179</td>\n",
       "      <td>205</td>\n",
       "      <td>NaN</td>\n",
       "      <td>54.56</td>\n",
       "      <td>2.75</td>\n",
       "      <td>0.5</td>\n",
       "      <td>0.0</td>\n",
       "      <td>0.00</td>\n",
       "      <td>0.3</td>\n",
       "      <td>58.11</td>\n",
       "      <td>0.0</td>\n",
       "    </tr>\n",
       "  </tbody>\n",
       "</table>\n",
       "</div>"
      ],
      "text/plain": [
       "         VendorID tpep_pickup_datetime tpep_dropoff_datetime  passenger_count  \\\n",
       "6405003       NaN  2020-01-31 22:51:00   2020-01-31 23:22:00              NaN   \n",
       "6405004       NaN  2020-01-31 22:10:00   2020-01-31 23:26:00              NaN   \n",
       "6405005       NaN  2020-01-31 22:50:07   2020-01-31 23:17:57              NaN   \n",
       "6405006       NaN  2020-01-31 22:25:53   2020-01-31 22:48:32              NaN   \n",
       "6405007       NaN  2020-01-31 22:44:00   2020-01-31 23:06:00              NaN   \n",
       "\n",
       "         trip_distance  RatecodeID store_and_fwd_flag  PULocationID  \\\n",
       "6405003           3.24         NaN                NaN           237   \n",
       "6405004          22.13         NaN                NaN           259   \n",
       "6405005          10.51         NaN                NaN           137   \n",
       "6405006           5.49         NaN                NaN            50   \n",
       "6405007          11.60         NaN                NaN           179   \n",
       "\n",
       "         DOLocationID  payment_type  fare_amount  extra  mta_tax  tip_amount  \\\n",
       "6405003           234           NaN        17.59   2.75      0.5         0.0   \n",
       "6405004            45           NaN        46.67   2.75      0.5         0.0   \n",
       "6405005           169           NaN        48.85   2.75      0.0         0.0   \n",
       "6405006            42           NaN        27.17   2.75      0.0         0.0   \n",
       "6405007           205           NaN        54.56   2.75      0.5         0.0   \n",
       "\n",
       "         tolls_amount  improvement_surcharge  total_amount  \\\n",
       "6405003          0.00                    0.3         21.14   \n",
       "6405004         12.24                    0.3         62.46   \n",
       "6405005          0.00                    0.3         51.90   \n",
       "6405006          0.00                    0.3         30.22   \n",
       "6405007          0.00                    0.3         58.11   \n",
       "\n",
       "         congestion_surcharge  \n",
       "6405003                   0.0  \n",
       "6405004                   0.0  \n",
       "6405005                   0.0  \n",
       "6405006                   0.0  \n",
       "6405007                   0.0  "
      ]
     },
     "execution_count": 4,
     "metadata": {},
     "output_type": "execute_result"
    }
   ],
   "source": [
    "df.tail()"
   ]
  },
  {
   "cell_type": "markdown",
   "id": "6687afbd-7d36-492c-9f51-a40265aea521",
   "metadata": {},
   "source": [
    "## Performing Exploratory Data Analysis and visualizing Data"
   ]
  },
  {
   "cell_type": "code",
   "execution_count": 5,
   "id": "a45b8426-003e-4ab9-8e18-096d71392f4f",
   "metadata": {
    "tags": []
   },
   "outputs": [
    {
     "name": "stdout",
     "output_type": "stream",
     "text": [
      "The shape of the Data : (6405008, 18)\n"
     ]
    }
   ],
   "source": [
    "# Shape of the Data\n",
    "print(f'The shape of the Data : {df.shape}')"
   ]
  },
  {
   "cell_type": "code",
   "execution_count": 6,
   "id": "19043db9-6e04-45da-a9ff-b1eac91217eb",
   "metadata": {
    "tags": []
   },
   "outputs": [
    {
     "name": "stdout",
     "output_type": "stream",
     "text": [
      "VendorID                 float64\n",
      "tpep_pickup_datetime      object\n",
      "tpep_dropoff_datetime     object\n",
      "passenger_count          float64\n",
      "trip_distance            float64\n",
      "RatecodeID               float64\n",
      "store_and_fwd_flag        object\n",
      "PULocationID               int64\n",
      "DOLocationID               int64\n",
      "payment_type             float64\n",
      "fare_amount              float64\n",
      "extra                    float64\n",
      "mta_tax                  float64\n",
      "tip_amount               float64\n",
      "tolls_amount             float64\n",
      "improvement_surcharge    float64\n",
      "total_amount             float64\n",
      "congestion_surcharge     float64\n",
      "dtype: object\n"
     ]
    }
   ],
   "source": [
    "#checking the data types of the columns\n",
    "print(df.dtypes)"
   ]
  },
  {
   "cell_type": "code",
   "execution_count": 7,
   "id": "47d52faf-ed12-49fc-bdef-a76692e99544",
   "metadata": {
    "tags": []
   },
   "outputs": [],
   "source": [
    "df['tpep_pickup_datetime'] = pd.to_datetime(df['tpep_pickup_datetime'])\n",
    "df['tpep_dropoff_datetime'] = pd.to_datetime(df['tpep_dropoff_datetime'])"
   ]
  },
  {
   "cell_type": "code",
   "execution_count": 8,
   "id": "97843052-01a1-4743-82db-4cfaafac8176",
   "metadata": {
    "tags": []
   },
   "outputs": [
    {
     "name": "stdout",
     "output_type": "stream",
     "text": [
      "VendorID                        float64\n",
      "tpep_pickup_datetime     datetime64[ns]\n",
      "tpep_dropoff_datetime    datetime64[ns]\n",
      "passenger_count                 float64\n",
      "trip_distance                   float64\n",
      "RatecodeID                      float64\n",
      "store_and_fwd_flag               object\n",
      "PULocationID                      int64\n",
      "DOLocationID                      int64\n",
      "payment_type                    float64\n",
      "fare_amount                     float64\n",
      "extra                           float64\n",
      "mta_tax                         float64\n",
      "tip_amount                      float64\n",
      "tolls_amount                    float64\n",
      "improvement_surcharge           float64\n",
      "total_amount                    float64\n",
      "congestion_surcharge            float64\n",
      "dtype: object\n"
     ]
    }
   ],
   "source": [
    "#Checking for the datetime conversion\n",
    "print(df.dtypes)"
   ]
  },
  {
   "cell_type": "code",
   "execution_count": 9,
   "id": "8e746d2e-bb21-45b7-9f02-c399a304a0c2",
   "metadata": {
    "tags": []
   },
   "outputs": [
    {
     "data": {
      "text/html": [
       "<div>\n",
       "<style scoped>\n",
       "    .dataframe tbody tr th:only-of-type {\n",
       "        vertical-align: middle;\n",
       "    }\n",
       "\n",
       "    .dataframe tbody tr th {\n",
       "        vertical-align: top;\n",
       "    }\n",
       "\n",
       "    .dataframe thead th {\n",
       "        text-align: right;\n",
       "    }\n",
       "</style>\n",
       "<table border=\"1\" class=\"dataframe\">\n",
       "  <thead>\n",
       "    <tr style=\"text-align: right;\">\n",
       "      <th></th>\n",
       "      <th>VendorID</th>\n",
       "      <th>tpep_pickup_datetime</th>\n",
       "      <th>tpep_dropoff_datetime</th>\n",
       "      <th>passenger_count</th>\n",
       "      <th>trip_distance</th>\n",
       "      <th>RatecodeID</th>\n",
       "      <th>store_and_fwd_flag</th>\n",
       "      <th>PULocationID</th>\n",
       "      <th>DOLocationID</th>\n",
       "      <th>payment_type</th>\n",
       "      <th>fare_amount</th>\n",
       "      <th>extra</th>\n",
       "      <th>mta_tax</th>\n",
       "      <th>tip_amount</th>\n",
       "      <th>tolls_amount</th>\n",
       "      <th>improvement_surcharge</th>\n",
       "      <th>total_amount</th>\n",
       "      <th>congestion_surcharge</th>\n",
       "      <th>duration</th>\n",
       "    </tr>\n",
       "  </thead>\n",
       "  <tbody>\n",
       "    <tr>\n",
       "      <th>0</th>\n",
       "      <td>1.0</td>\n",
       "      <td>2020-01-01 00:28:15</td>\n",
       "      <td>2020-01-01 00:33:03</td>\n",
       "      <td>1.0</td>\n",
       "      <td>1.2</td>\n",
       "      <td>1.0</td>\n",
       "      <td>N</td>\n",
       "      <td>238</td>\n",
       "      <td>239</td>\n",
       "      <td>1.0</td>\n",
       "      <td>6.0</td>\n",
       "      <td>3.0</td>\n",
       "      <td>0.5</td>\n",
       "      <td>1.47</td>\n",
       "      <td>0.0</td>\n",
       "      <td>0.3</td>\n",
       "      <td>11.27</td>\n",
       "      <td>2.5</td>\n",
       "      <td>0 days 00:04:48</td>\n",
       "    </tr>\n",
       "    <tr>\n",
       "      <th>1</th>\n",
       "      <td>1.0</td>\n",
       "      <td>2020-01-01 00:35:39</td>\n",
       "      <td>2020-01-01 00:43:04</td>\n",
       "      <td>1.0</td>\n",
       "      <td>1.2</td>\n",
       "      <td>1.0</td>\n",
       "      <td>N</td>\n",
       "      <td>239</td>\n",
       "      <td>238</td>\n",
       "      <td>1.0</td>\n",
       "      <td>7.0</td>\n",
       "      <td>3.0</td>\n",
       "      <td>0.5</td>\n",
       "      <td>1.50</td>\n",
       "      <td>0.0</td>\n",
       "      <td>0.3</td>\n",
       "      <td>12.30</td>\n",
       "      <td>2.5</td>\n",
       "      <td>0 days 00:07:25</td>\n",
       "    </tr>\n",
       "    <tr>\n",
       "      <th>2</th>\n",
       "      <td>1.0</td>\n",
       "      <td>2020-01-01 00:47:41</td>\n",
       "      <td>2020-01-01 00:53:52</td>\n",
       "      <td>1.0</td>\n",
       "      <td>0.6</td>\n",
       "      <td>1.0</td>\n",
       "      <td>N</td>\n",
       "      <td>238</td>\n",
       "      <td>238</td>\n",
       "      <td>1.0</td>\n",
       "      <td>6.0</td>\n",
       "      <td>3.0</td>\n",
       "      <td>0.5</td>\n",
       "      <td>1.00</td>\n",
       "      <td>0.0</td>\n",
       "      <td>0.3</td>\n",
       "      <td>10.80</td>\n",
       "      <td>2.5</td>\n",
       "      <td>0 days 00:06:11</td>\n",
       "    </tr>\n",
       "    <tr>\n",
       "      <th>3</th>\n",
       "      <td>1.0</td>\n",
       "      <td>2020-01-01 00:55:23</td>\n",
       "      <td>2020-01-01 01:00:14</td>\n",
       "      <td>1.0</td>\n",
       "      <td>0.8</td>\n",
       "      <td>1.0</td>\n",
       "      <td>N</td>\n",
       "      <td>238</td>\n",
       "      <td>151</td>\n",
       "      <td>1.0</td>\n",
       "      <td>5.5</td>\n",
       "      <td>0.5</td>\n",
       "      <td>0.5</td>\n",
       "      <td>1.36</td>\n",
       "      <td>0.0</td>\n",
       "      <td>0.3</td>\n",
       "      <td>8.16</td>\n",
       "      <td>0.0</td>\n",
       "      <td>0 days 00:04:51</td>\n",
       "    </tr>\n",
       "    <tr>\n",
       "      <th>4</th>\n",
       "      <td>2.0</td>\n",
       "      <td>2020-01-01 00:01:58</td>\n",
       "      <td>2020-01-01 00:04:16</td>\n",
       "      <td>1.0</td>\n",
       "      <td>0.0</td>\n",
       "      <td>1.0</td>\n",
       "      <td>N</td>\n",
       "      <td>193</td>\n",
       "      <td>193</td>\n",
       "      <td>2.0</td>\n",
       "      <td>3.5</td>\n",
       "      <td>0.5</td>\n",
       "      <td>0.5</td>\n",
       "      <td>0.00</td>\n",
       "      <td>0.0</td>\n",
       "      <td>0.3</td>\n",
       "      <td>4.80</td>\n",
       "      <td>0.0</td>\n",
       "      <td>0 days 00:02:18</td>\n",
       "    </tr>\n",
       "  </tbody>\n",
       "</table>\n",
       "</div>"
      ],
      "text/plain": [
       "   VendorID tpep_pickup_datetime tpep_dropoff_datetime  passenger_count  \\\n",
       "0       1.0  2020-01-01 00:28:15   2020-01-01 00:33:03              1.0   \n",
       "1       1.0  2020-01-01 00:35:39   2020-01-01 00:43:04              1.0   \n",
       "2       1.0  2020-01-01 00:47:41   2020-01-01 00:53:52              1.0   \n",
       "3       1.0  2020-01-01 00:55:23   2020-01-01 01:00:14              1.0   \n",
       "4       2.0  2020-01-01 00:01:58   2020-01-01 00:04:16              1.0   \n",
       "\n",
       "   trip_distance  RatecodeID store_and_fwd_flag  PULocationID  DOLocationID  \\\n",
       "0            1.2         1.0                  N           238           239   \n",
       "1            1.2         1.0                  N           239           238   \n",
       "2            0.6         1.0                  N           238           238   \n",
       "3            0.8         1.0                  N           238           151   \n",
       "4            0.0         1.0                  N           193           193   \n",
       "\n",
       "   payment_type  fare_amount  extra  mta_tax  tip_amount  tolls_amount  \\\n",
       "0           1.0          6.0    3.0      0.5        1.47           0.0   \n",
       "1           1.0          7.0    3.0      0.5        1.50           0.0   \n",
       "2           1.0          6.0    3.0      0.5        1.00           0.0   \n",
       "3           1.0          5.5    0.5      0.5        1.36           0.0   \n",
       "4           2.0          3.5    0.5      0.5        0.00           0.0   \n",
       "\n",
       "   improvement_surcharge  total_amount  congestion_surcharge        duration  \n",
       "0                    0.3         11.27                   2.5 0 days 00:04:48  \n",
       "1                    0.3         12.30                   2.5 0 days 00:07:25  \n",
       "2                    0.3         10.80                   2.5 0 days 00:06:11  \n",
       "3                    0.3          8.16                   0.0 0 days 00:04:51  \n",
       "4                    0.3          4.80                   0.0 0 days 00:02:18  "
      ]
     },
     "execution_count": 9,
     "metadata": {},
     "output_type": "execute_result"
    }
   ],
   "source": [
    "df['duration'] = df['tpep_dropoff_datetime']-df['tpep_pickup_datetime']\n",
    "df.head()"
   ]
  },
  {
   "cell_type": "code",
   "execution_count": 10,
   "id": "079f7baf-863c-4e2a-99c7-c8c8ad00ae25",
   "metadata": {
    "tags": []
   },
   "outputs": [
    {
     "data": {
      "text/html": [
       "<div>\n",
       "<style scoped>\n",
       "    .dataframe tbody tr th:only-of-type {\n",
       "        vertical-align: middle;\n",
       "    }\n",
       "\n",
       "    .dataframe tbody tr th {\n",
       "        vertical-align: top;\n",
       "    }\n",
       "\n",
       "    .dataframe thead th {\n",
       "        text-align: right;\n",
       "    }\n",
       "</style>\n",
       "<table border=\"1\" class=\"dataframe\">\n",
       "  <thead>\n",
       "    <tr style=\"text-align: right;\">\n",
       "      <th></th>\n",
       "      <th>VendorID</th>\n",
       "      <th>tpep_pickup_datetime</th>\n",
       "      <th>tpep_dropoff_datetime</th>\n",
       "      <th>passenger_count</th>\n",
       "      <th>trip_distance</th>\n",
       "      <th>RatecodeID</th>\n",
       "      <th>store_and_fwd_flag</th>\n",
       "      <th>PULocationID</th>\n",
       "      <th>DOLocationID</th>\n",
       "      <th>payment_type</th>\n",
       "      <th>fare_amount</th>\n",
       "      <th>extra</th>\n",
       "      <th>mta_tax</th>\n",
       "      <th>tip_amount</th>\n",
       "      <th>tolls_amount</th>\n",
       "      <th>improvement_surcharge</th>\n",
       "      <th>total_amount</th>\n",
       "      <th>congestion_surcharge</th>\n",
       "      <th>duration</th>\n",
       "    </tr>\n",
       "  </thead>\n",
       "  <tbody>\n",
       "    <tr>\n",
       "      <th>0</th>\n",
       "      <td>1.0</td>\n",
       "      <td>2020-01-01 00:28:15</td>\n",
       "      <td>2020-01-01 00:33:03</td>\n",
       "      <td>1.0</td>\n",
       "      <td>1.2</td>\n",
       "      <td>1.0</td>\n",
       "      <td>N</td>\n",
       "      <td>238</td>\n",
       "      <td>239</td>\n",
       "      <td>1.0</td>\n",
       "      <td>6.0</td>\n",
       "      <td>3.0</td>\n",
       "      <td>0.5</td>\n",
       "      <td>1.47</td>\n",
       "      <td>0.0</td>\n",
       "      <td>0.3</td>\n",
       "      <td>11.27</td>\n",
       "      <td>2.5</td>\n",
       "      <td>4.800000</td>\n",
       "    </tr>\n",
       "    <tr>\n",
       "      <th>1</th>\n",
       "      <td>1.0</td>\n",
       "      <td>2020-01-01 00:35:39</td>\n",
       "      <td>2020-01-01 00:43:04</td>\n",
       "      <td>1.0</td>\n",
       "      <td>1.2</td>\n",
       "      <td>1.0</td>\n",
       "      <td>N</td>\n",
       "      <td>239</td>\n",
       "      <td>238</td>\n",
       "      <td>1.0</td>\n",
       "      <td>7.0</td>\n",
       "      <td>3.0</td>\n",
       "      <td>0.5</td>\n",
       "      <td>1.50</td>\n",
       "      <td>0.0</td>\n",
       "      <td>0.3</td>\n",
       "      <td>12.30</td>\n",
       "      <td>2.5</td>\n",
       "      <td>7.416667</td>\n",
       "    </tr>\n",
       "    <tr>\n",
       "      <th>2</th>\n",
       "      <td>1.0</td>\n",
       "      <td>2020-01-01 00:47:41</td>\n",
       "      <td>2020-01-01 00:53:52</td>\n",
       "      <td>1.0</td>\n",
       "      <td>0.6</td>\n",
       "      <td>1.0</td>\n",
       "      <td>N</td>\n",
       "      <td>238</td>\n",
       "      <td>238</td>\n",
       "      <td>1.0</td>\n",
       "      <td>6.0</td>\n",
       "      <td>3.0</td>\n",
       "      <td>0.5</td>\n",
       "      <td>1.00</td>\n",
       "      <td>0.0</td>\n",
       "      <td>0.3</td>\n",
       "      <td>10.80</td>\n",
       "      <td>2.5</td>\n",
       "      <td>6.183333</td>\n",
       "    </tr>\n",
       "    <tr>\n",
       "      <th>3</th>\n",
       "      <td>1.0</td>\n",
       "      <td>2020-01-01 00:55:23</td>\n",
       "      <td>2020-01-01 01:00:14</td>\n",
       "      <td>1.0</td>\n",
       "      <td>0.8</td>\n",
       "      <td>1.0</td>\n",
       "      <td>N</td>\n",
       "      <td>238</td>\n",
       "      <td>151</td>\n",
       "      <td>1.0</td>\n",
       "      <td>5.5</td>\n",
       "      <td>0.5</td>\n",
       "      <td>0.5</td>\n",
       "      <td>1.36</td>\n",
       "      <td>0.0</td>\n",
       "      <td>0.3</td>\n",
       "      <td>8.16</td>\n",
       "      <td>0.0</td>\n",
       "      <td>4.850000</td>\n",
       "    </tr>\n",
       "    <tr>\n",
       "      <th>4</th>\n",
       "      <td>2.0</td>\n",
       "      <td>2020-01-01 00:01:58</td>\n",
       "      <td>2020-01-01 00:04:16</td>\n",
       "      <td>1.0</td>\n",
       "      <td>0.0</td>\n",
       "      <td>1.0</td>\n",
       "      <td>N</td>\n",
       "      <td>193</td>\n",
       "      <td>193</td>\n",
       "      <td>2.0</td>\n",
       "      <td>3.5</td>\n",
       "      <td>0.5</td>\n",
       "      <td>0.5</td>\n",
       "      <td>0.00</td>\n",
       "      <td>0.0</td>\n",
       "      <td>0.3</td>\n",
       "      <td>4.80</td>\n",
       "      <td>0.0</td>\n",
       "      <td>2.300000</td>\n",
       "    </tr>\n",
       "  </tbody>\n",
       "</table>\n",
       "</div>"
      ],
      "text/plain": [
       "   VendorID tpep_pickup_datetime tpep_dropoff_datetime  passenger_count  \\\n",
       "0       1.0  2020-01-01 00:28:15   2020-01-01 00:33:03              1.0   \n",
       "1       1.0  2020-01-01 00:35:39   2020-01-01 00:43:04              1.0   \n",
       "2       1.0  2020-01-01 00:47:41   2020-01-01 00:53:52              1.0   \n",
       "3       1.0  2020-01-01 00:55:23   2020-01-01 01:00:14              1.0   \n",
       "4       2.0  2020-01-01 00:01:58   2020-01-01 00:04:16              1.0   \n",
       "\n",
       "   trip_distance  RatecodeID store_and_fwd_flag  PULocationID  DOLocationID  \\\n",
       "0            1.2         1.0                  N           238           239   \n",
       "1            1.2         1.0                  N           239           238   \n",
       "2            0.6         1.0                  N           238           238   \n",
       "3            0.8         1.0                  N           238           151   \n",
       "4            0.0         1.0                  N           193           193   \n",
       "\n",
       "   payment_type  fare_amount  extra  mta_tax  tip_amount  tolls_amount  \\\n",
       "0           1.0          6.0    3.0      0.5        1.47           0.0   \n",
       "1           1.0          7.0    3.0      0.5        1.50           0.0   \n",
       "2           1.0          6.0    3.0      0.5        1.00           0.0   \n",
       "3           1.0          5.5    0.5      0.5        1.36           0.0   \n",
       "4           2.0          3.5    0.5      0.5        0.00           0.0   \n",
       "\n",
       "   improvement_surcharge  total_amount  congestion_surcharge  duration  \n",
       "0                    0.3         11.27                   2.5  4.800000  \n",
       "1                    0.3         12.30                   2.5  7.416667  \n",
       "2                    0.3         10.80                   2.5  6.183333  \n",
       "3                    0.3          8.16                   0.0  4.850000  \n",
       "4                    0.3          4.80                   0.0  2.300000  "
      ]
     },
     "execution_count": 10,
     "metadata": {},
     "output_type": "execute_result"
    }
   ],
   "source": [
    "#Converting the duration to minutes \n",
    "df['duration'] = df['duration'].dt.total_seconds()/60\n",
    "df.head()"
   ]
  },
  {
   "cell_type": "code",
   "execution_count": 11,
   "id": "a527acbb-f1fc-452b-a370-7f6a1434449d",
   "metadata": {
    "tags": []
   },
   "outputs": [],
   "source": [
    "#Filtering/Extracting the required Data\n",
    "df = df[['passenger_count','trip_distance','payment_type','fare_amount','duration']]"
   ]
  },
  {
   "cell_type": "code",
   "execution_count": 12,
   "id": "6c676ebd-3f01-4d7b-8b0b-d7dfed33bc36",
   "metadata": {
    "tags": []
   },
   "outputs": [
    {
     "data": {
      "text/html": [
       "<div>\n",
       "<style scoped>\n",
       "    .dataframe tbody tr th:only-of-type {\n",
       "        vertical-align: middle;\n",
       "    }\n",
       "\n",
       "    .dataframe tbody tr th {\n",
       "        vertical-align: top;\n",
       "    }\n",
       "\n",
       "    .dataframe thead th {\n",
       "        text-align: right;\n",
       "    }\n",
       "</style>\n",
       "<table border=\"1\" class=\"dataframe\">\n",
       "  <thead>\n",
       "    <tr style=\"text-align: right;\">\n",
       "      <th></th>\n",
       "      <th>passenger_count</th>\n",
       "      <th>trip_distance</th>\n",
       "      <th>payment_type</th>\n",
       "      <th>fare_amount</th>\n",
       "      <th>duration</th>\n",
       "    </tr>\n",
       "  </thead>\n",
       "  <tbody>\n",
       "    <tr>\n",
       "      <th>0</th>\n",
       "      <td>1.0</td>\n",
       "      <td>1.2</td>\n",
       "      <td>1.0</td>\n",
       "      <td>6.0</td>\n",
       "      <td>4.800000</td>\n",
       "    </tr>\n",
       "    <tr>\n",
       "      <th>1</th>\n",
       "      <td>1.0</td>\n",
       "      <td>1.2</td>\n",
       "      <td>1.0</td>\n",
       "      <td>7.0</td>\n",
       "      <td>7.416667</td>\n",
       "    </tr>\n",
       "    <tr>\n",
       "      <th>2</th>\n",
       "      <td>1.0</td>\n",
       "      <td>0.6</td>\n",
       "      <td>1.0</td>\n",
       "      <td>6.0</td>\n",
       "      <td>6.183333</td>\n",
       "    </tr>\n",
       "    <tr>\n",
       "      <th>3</th>\n",
       "      <td>1.0</td>\n",
       "      <td>0.8</td>\n",
       "      <td>1.0</td>\n",
       "      <td>5.5</td>\n",
       "      <td>4.850000</td>\n",
       "    </tr>\n",
       "    <tr>\n",
       "      <th>4</th>\n",
       "      <td>1.0</td>\n",
       "      <td>0.0</td>\n",
       "      <td>2.0</td>\n",
       "      <td>3.5</td>\n",
       "      <td>2.300000</td>\n",
       "    </tr>\n",
       "  </tbody>\n",
       "</table>\n",
       "</div>"
      ],
      "text/plain": [
       "   passenger_count  trip_distance  payment_type  fare_amount  duration\n",
       "0              1.0            1.2           1.0          6.0  4.800000\n",
       "1              1.0            1.2           1.0          7.0  7.416667\n",
       "2              1.0            0.6           1.0          6.0  6.183333\n",
       "3              1.0            0.8           1.0          5.5  4.850000\n",
       "4              1.0            0.0           2.0          3.5  2.300000"
      ]
     },
     "execution_count": 12,
     "metadata": {},
     "output_type": "execute_result"
    }
   ],
   "source": [
    "df.head()"
   ]
  },
  {
   "cell_type": "code",
   "execution_count": 13,
   "id": "d970c468-3603-4bc6-b7e9-dd85439dd9c3",
   "metadata": {
    "tags": []
   },
   "outputs": [
    {
     "data": {
      "text/html": [
       "<div>\n",
       "<style scoped>\n",
       "    .dataframe tbody tr th:only-of-type {\n",
       "        vertical-align: middle;\n",
       "    }\n",
       "\n",
       "    .dataframe tbody tr th {\n",
       "        vertical-align: top;\n",
       "    }\n",
       "\n",
       "    .dataframe thead th {\n",
       "        text-align: right;\n",
       "    }\n",
       "</style>\n",
       "<table border=\"1\" class=\"dataframe\">\n",
       "  <thead>\n",
       "    <tr style=\"text-align: right;\">\n",
       "      <th></th>\n",
       "      <th>passenger_count</th>\n",
       "      <th>trip_distance</th>\n",
       "      <th>payment_type</th>\n",
       "      <th>fare_amount</th>\n",
       "      <th>duration</th>\n",
       "    </tr>\n",
       "  </thead>\n",
       "  <tbody>\n",
       "    <tr>\n",
       "      <th>6405003</th>\n",
       "      <td>NaN</td>\n",
       "      <td>3.24</td>\n",
       "      <td>NaN</td>\n",
       "      <td>17.59</td>\n",
       "      <td>31.000000</td>\n",
       "    </tr>\n",
       "    <tr>\n",
       "      <th>6405004</th>\n",
       "      <td>NaN</td>\n",
       "      <td>22.13</td>\n",
       "      <td>NaN</td>\n",
       "      <td>46.67</td>\n",
       "      <td>76.000000</td>\n",
       "    </tr>\n",
       "    <tr>\n",
       "      <th>6405005</th>\n",
       "      <td>NaN</td>\n",
       "      <td>10.51</td>\n",
       "      <td>NaN</td>\n",
       "      <td>48.85</td>\n",
       "      <td>27.833333</td>\n",
       "    </tr>\n",
       "    <tr>\n",
       "      <th>6405006</th>\n",
       "      <td>NaN</td>\n",
       "      <td>5.49</td>\n",
       "      <td>NaN</td>\n",
       "      <td>27.17</td>\n",
       "      <td>22.650000</td>\n",
       "    </tr>\n",
       "    <tr>\n",
       "      <th>6405007</th>\n",
       "      <td>NaN</td>\n",
       "      <td>11.60</td>\n",
       "      <td>NaN</td>\n",
       "      <td>54.56</td>\n",
       "      <td>22.000000</td>\n",
       "    </tr>\n",
       "  </tbody>\n",
       "</table>\n",
       "</div>"
      ],
      "text/plain": [
       "         passenger_count  trip_distance  payment_type  fare_amount   duration\n",
       "6405003              NaN           3.24           NaN        17.59  31.000000\n",
       "6405004              NaN          22.13           NaN        46.67  76.000000\n",
       "6405005              NaN          10.51           NaN        48.85  27.833333\n",
       "6405006              NaN           5.49           NaN        27.17  22.650000\n",
       "6405007              NaN          11.60           NaN        54.56  22.000000"
      ]
     },
     "execution_count": 13,
     "metadata": {},
     "output_type": "execute_result"
    }
   ],
   "source": [
    "df.tail()"
   ]
  },
  {
   "cell_type": "code",
   "execution_count": 14,
   "id": "c3681bd2-08cd-46cb-b980-a17f12cb0ee4",
   "metadata": {
    "tags": []
   },
   "outputs": [
    {
     "name": "stdout",
     "output_type": "stream",
     "text": [
      "Shape Of the filtered Data: (6405008, 5)\n"
     ]
    }
   ],
   "source": [
    "print(f'Shape Of the filtered Data: {df.shape}')"
   ]
  },
  {
   "cell_type": "markdown",
   "id": "4e3f4832-21c0-405d-9f25-2f969912b7be",
   "metadata": {},
   "source": [
    "__We can see quite a number of missing values. Lets check for them.__"
   ]
  },
  {
   "cell_type": "code",
   "execution_count": 15,
   "id": "bb5d8ba5-158b-4a89-8a1c-c5c7c41a63a6",
   "metadata": {
    "tags": []
   },
   "outputs": [
    {
     "data": {
      "text/plain": [
       "passenger_count    65441\n",
       "trip_distance          0\n",
       "payment_type       65441\n",
       "fare_amount            0\n",
       "duration               0\n",
       "dtype: int64"
      ]
     },
     "execution_count": 15,
     "metadata": {},
     "output_type": "execute_result"
    }
   ],
   "source": [
    "#Checking for missing values\n",
    "df.isnull().sum()"
   ]
  },
  {
   "cell_type": "markdown",
   "id": "74e76288-05dc-4b6f-b4ea-b3c55e0f7258",
   "metadata": {},
   "source": [
    "Lets check for the missing values perentage contribution to the dataset."
   ]
  },
  {
   "cell_type": "code",
   "execution_count": 16,
   "id": "aaa65c35-4c35-4bc6-b73a-97ffefd6b7d1",
   "metadata": {
    "tags": []
   },
   "outputs": [
    {
     "name": "stdout",
     "output_type": "stream",
     "text": [
      "Missing values contribute to 1.021716132126611% of Data\n"
     ]
    }
   ],
   "source": [
    "perc_contribution = (65441/len(df))*100\n",
    "print(f'Missing values contribute to {perc_contribution}% of Data')"
   ]
  },
  {
   "cell_type": "markdown",
   "id": "97de709c-0401-438d-bd9a-d300023a33be",
   "metadata": {},
   "source": [
    "Since this missing data contibutes to about roughly one percent of the dataset, we can drop them."
   ]
  },
  {
   "cell_type": "code",
   "execution_count": 17,
   "id": "b79bfddc-f8c5-4f9c-aa13-c553268764b2",
   "metadata": {
    "tags": []
   },
   "outputs": [],
   "source": [
    "#Dropping the missing values\n",
    "df.dropna(inplace=True)"
   ]
  },
  {
   "cell_type": "code",
   "execution_count": 18,
   "id": "f685a273-6a07-48a7-8a8e-0615b09cc5ff",
   "metadata": {
    "tags": []
   },
   "outputs": [
    {
     "data": {
      "text/html": [
       "<div>\n",
       "<style scoped>\n",
       "    .dataframe tbody tr th:only-of-type {\n",
       "        vertical-align: middle;\n",
       "    }\n",
       "\n",
       "    .dataframe tbody tr th {\n",
       "        vertical-align: top;\n",
       "    }\n",
       "\n",
       "    .dataframe thead th {\n",
       "        text-align: right;\n",
       "    }\n",
       "</style>\n",
       "<table border=\"1\" class=\"dataframe\">\n",
       "  <thead>\n",
       "    <tr style=\"text-align: right;\">\n",
       "      <th></th>\n",
       "      <th>passenger_count</th>\n",
       "      <th>trip_distance</th>\n",
       "      <th>payment_type</th>\n",
       "      <th>fare_amount</th>\n",
       "      <th>duration</th>\n",
       "    </tr>\n",
       "  </thead>\n",
       "  <tbody>\n",
       "    <tr>\n",
       "      <th>0</th>\n",
       "      <td>1.0</td>\n",
       "      <td>1.20</td>\n",
       "      <td>1.0</td>\n",
       "      <td>6.0</td>\n",
       "      <td>4.800000</td>\n",
       "    </tr>\n",
       "    <tr>\n",
       "      <th>1</th>\n",
       "      <td>1.0</td>\n",
       "      <td>1.20</td>\n",
       "      <td>1.0</td>\n",
       "      <td>7.0</td>\n",
       "      <td>7.416667</td>\n",
       "    </tr>\n",
       "    <tr>\n",
       "      <th>2</th>\n",
       "      <td>1.0</td>\n",
       "      <td>0.60</td>\n",
       "      <td>1.0</td>\n",
       "      <td>6.0</td>\n",
       "      <td>6.183333</td>\n",
       "    </tr>\n",
       "    <tr>\n",
       "      <th>3</th>\n",
       "      <td>1.0</td>\n",
       "      <td>0.80</td>\n",
       "      <td>1.0</td>\n",
       "      <td>5.5</td>\n",
       "      <td>4.850000</td>\n",
       "    </tr>\n",
       "    <tr>\n",
       "      <th>4</th>\n",
       "      <td>1.0</td>\n",
       "      <td>0.00</td>\n",
       "      <td>2.0</td>\n",
       "      <td>3.5</td>\n",
       "      <td>2.300000</td>\n",
       "    </tr>\n",
       "    <tr>\n",
       "      <th>...</th>\n",
       "      <td>...</td>\n",
       "      <td>...</td>\n",
       "      <td>...</td>\n",
       "      <td>...</td>\n",
       "      <td>...</td>\n",
       "    </tr>\n",
       "    <tr>\n",
       "      <th>6339562</th>\n",
       "      <td>1.0</td>\n",
       "      <td>2.10</td>\n",
       "      <td>1.0</td>\n",
       "      <td>11.0</td>\n",
       "      <td>14.233333</td>\n",
       "    </tr>\n",
       "    <tr>\n",
       "      <th>6339563</th>\n",
       "      <td>1.0</td>\n",
       "      <td>2.13</td>\n",
       "      <td>1.0</td>\n",
       "      <td>13.0</td>\n",
       "      <td>19.000000</td>\n",
       "    </tr>\n",
       "    <tr>\n",
       "      <th>6339564</th>\n",
       "      <td>1.0</td>\n",
       "      <td>2.55</td>\n",
       "      <td>1.0</td>\n",
       "      <td>12.5</td>\n",
       "      <td>16.283333</td>\n",
       "    </tr>\n",
       "    <tr>\n",
       "      <th>6339565</th>\n",
       "      <td>1.0</td>\n",
       "      <td>1.61</td>\n",
       "      <td>2.0</td>\n",
       "      <td>8.5</td>\n",
       "      <td>9.633333</td>\n",
       "    </tr>\n",
       "    <tr>\n",
       "      <th>6339566</th>\n",
       "      <td>1.0</td>\n",
       "      <td>0.00</td>\n",
       "      <td>1.0</td>\n",
       "      <td>0.0</td>\n",
       "      <td>1.066667</td>\n",
       "    </tr>\n",
       "  </tbody>\n",
       "</table>\n",
       "<p>6339567 rows × 5 columns</p>\n",
       "</div>"
      ],
      "text/plain": [
       "         passenger_count  trip_distance  payment_type  fare_amount   duration\n",
       "0                    1.0           1.20           1.0          6.0   4.800000\n",
       "1                    1.0           1.20           1.0          7.0   7.416667\n",
       "2                    1.0           0.60           1.0          6.0   6.183333\n",
       "3                    1.0           0.80           1.0          5.5   4.850000\n",
       "4                    1.0           0.00           2.0          3.5   2.300000\n",
       "...                  ...            ...           ...          ...        ...\n",
       "6339562              1.0           2.10           1.0         11.0  14.233333\n",
       "6339563              1.0           2.13           1.0         13.0  19.000000\n",
       "6339564              1.0           2.55           1.0         12.5  16.283333\n",
       "6339565              1.0           1.61           2.0          8.5   9.633333\n",
       "6339566              1.0           0.00           1.0          0.0   1.066667\n",
       "\n",
       "[6339567 rows x 5 columns]"
      ]
     },
     "execution_count": 18,
     "metadata": {},
     "output_type": "execute_result"
    }
   ],
   "source": [
    "#Checking if the data drop worked\n",
    "df"
   ]
  },
  {
   "cell_type": "markdown",
   "id": "e205a800-c978-4db1-a59a-f1c411bff7a0",
   "metadata": {},
   "source": [
    "We have successfully dropped the missing values.  "
   ]
  },
  {
   "cell_type": "markdown",
   "id": "4114d9ee-9652-426e-ae1f-d51d133c7074",
   "metadata": {},
   "source": [
    "We can also see that the __'passenger count'__ and __'payment type'__ column are present as __float__ datatype. Lets convert it to __int64__"
   ]
  },
  {
   "cell_type": "code",
   "execution_count": 19,
   "id": "f5ec90c2-f577-44f6-b298-64f3a565f17a",
   "metadata": {
    "tags": []
   },
   "outputs": [
    {
     "data": {
      "text/plain": [
       "passenger_count    float64\n",
       "trip_distance      float64\n",
       "payment_type       float64\n",
       "fare_amount        float64\n",
       "duration           float64\n",
       "dtype: object"
      ]
     },
     "execution_count": 19,
     "metadata": {},
     "output_type": "execute_result"
    }
   ],
   "source": [
    "df.dtypes"
   ]
  },
  {
   "cell_type": "code",
   "execution_count": 20,
   "id": "21614035-9d5e-44dc-932f-82856b75dfac",
   "metadata": {
    "tags": []
   },
   "outputs": [],
   "source": [
    "#Converting the datatypes\n",
    "df['passenger_count'] = df['passenger_count'].astype('int64')\n",
    "df['payment_type'] = df['payment_type'].astype('int64')"
   ]
  },
  {
   "cell_type": "code",
   "execution_count": 21,
   "id": "4676d0bb-bb90-4475-baa7-3503efa959ac",
   "metadata": {
    "tags": []
   },
   "outputs": [
    {
     "data": {
      "text/plain": [
       "passenger_count      int64\n",
       "trip_distance      float64\n",
       "payment_type         int64\n",
       "fare_amount        float64\n",
       "duration           float64\n",
       "dtype: object"
      ]
     },
     "execution_count": 21,
     "metadata": {},
     "output_type": "execute_result"
    }
   ],
   "source": [
    "df.dtypes"
   ]
  },
  {
   "cell_type": "markdown",
   "id": "815c0304-1cb7-41a9-b33a-19411e64e59b",
   "metadata": {},
   "source": [
    "We have a succesful conversion of the required datatypes."
   ]
  },
  {
   "cell_type": "markdown",
   "id": "44543297-94f9-4c95-935c-ca0d32248508",
   "metadata": {},
   "source": [
    "__Checking for duplicates__"
   ]
  },
  {
   "cell_type": "code",
   "execution_count": 22,
   "id": "044538eb-5b47-4abd-b2ca-076c5e24079f",
   "metadata": {
    "tags": []
   },
   "outputs": [
    {
     "data": {
      "text/html": [
       "<div>\n",
       "<style scoped>\n",
       "    .dataframe tbody tr th:only-of-type {\n",
       "        vertical-align: middle;\n",
       "    }\n",
       "\n",
       "    .dataframe tbody tr th {\n",
       "        vertical-align: top;\n",
       "    }\n",
       "\n",
       "    .dataframe thead th {\n",
       "        text-align: right;\n",
       "    }\n",
       "</style>\n",
       "<table border=\"1\" class=\"dataframe\">\n",
       "  <thead>\n",
       "    <tr style=\"text-align: right;\">\n",
       "      <th></th>\n",
       "      <th>passenger_count</th>\n",
       "      <th>trip_distance</th>\n",
       "      <th>payment_type</th>\n",
       "      <th>fare_amount</th>\n",
       "      <th>duration</th>\n",
       "    </tr>\n",
       "  </thead>\n",
       "  <tbody>\n",
       "    <tr>\n",
       "      <th>2056</th>\n",
       "      <td>1</td>\n",
       "      <td>0.00</td>\n",
       "      <td>2</td>\n",
       "      <td>7.0</td>\n",
       "      <td>0.000000</td>\n",
       "    </tr>\n",
       "    <tr>\n",
       "      <th>2441</th>\n",
       "      <td>1</td>\n",
       "      <td>0.00</td>\n",
       "      <td>1</td>\n",
       "      <td>52.0</td>\n",
       "      <td>0.200000</td>\n",
       "    </tr>\n",
       "    <tr>\n",
       "      <th>2446</th>\n",
       "      <td>2</td>\n",
       "      <td>1.70</td>\n",
       "      <td>1</td>\n",
       "      <td>9.5</td>\n",
       "      <td>13.066667</td>\n",
       "    </tr>\n",
       "    <tr>\n",
       "      <th>2465</th>\n",
       "      <td>1</td>\n",
       "      <td>0.40</td>\n",
       "      <td>1</td>\n",
       "      <td>4.0</td>\n",
       "      <td>3.083333</td>\n",
       "    </tr>\n",
       "    <tr>\n",
       "      <th>3344</th>\n",
       "      <td>1</td>\n",
       "      <td>1.20</td>\n",
       "      <td>1</td>\n",
       "      <td>6.0</td>\n",
       "      <td>5.350000</td>\n",
       "    </tr>\n",
       "    <tr>\n",
       "      <th>...</th>\n",
       "      <td>...</td>\n",
       "      <td>...</td>\n",
       "      <td>...</td>\n",
       "      <td>...</td>\n",
       "      <td>...</td>\n",
       "    </tr>\n",
       "    <tr>\n",
       "      <th>6339558</th>\n",
       "      <td>1</td>\n",
       "      <td>1.63</td>\n",
       "      <td>2</td>\n",
       "      <td>8.0</td>\n",
       "      <td>8.800000</td>\n",
       "    </tr>\n",
       "    <tr>\n",
       "      <th>6339559</th>\n",
       "      <td>1</td>\n",
       "      <td>1.81</td>\n",
       "      <td>1</td>\n",
       "      <td>8.5</td>\n",
       "      <td>8.016667</td>\n",
       "    </tr>\n",
       "    <tr>\n",
       "      <th>6339560</th>\n",
       "      <td>1</td>\n",
       "      <td>0.98</td>\n",
       "      <td>2</td>\n",
       "      <td>6.5</td>\n",
       "      <td>6.900000</td>\n",
       "    </tr>\n",
       "    <tr>\n",
       "      <th>6339562</th>\n",
       "      <td>1</td>\n",
       "      <td>2.10</td>\n",
       "      <td>1</td>\n",
       "      <td>11.0</td>\n",
       "      <td>14.233333</td>\n",
       "    </tr>\n",
       "    <tr>\n",
       "      <th>6339565</th>\n",
       "      <td>1</td>\n",
       "      <td>1.61</td>\n",
       "      <td>2</td>\n",
       "      <td>8.5</td>\n",
       "      <td>9.633333</td>\n",
       "    </tr>\n",
       "  </tbody>\n",
       "</table>\n",
       "<p>3331706 rows × 5 columns</p>\n",
       "</div>"
      ],
      "text/plain": [
       "         passenger_count  trip_distance  payment_type  fare_amount   duration\n",
       "2056                   1           0.00             2          7.0   0.000000\n",
       "2441                   1           0.00             1         52.0   0.200000\n",
       "2446                   2           1.70             1          9.5  13.066667\n",
       "2465                   1           0.40             1          4.0   3.083333\n",
       "3344                   1           1.20             1          6.0   5.350000\n",
       "...                  ...            ...           ...          ...        ...\n",
       "6339558                1           1.63             2          8.0   8.800000\n",
       "6339559                1           1.81             1          8.5   8.016667\n",
       "6339560                1           0.98             2          6.5   6.900000\n",
       "6339562                1           2.10             1         11.0  14.233333\n",
       "6339565                1           1.61             2          8.5   9.633333\n",
       "\n",
       "[3331706 rows x 5 columns]"
      ]
     },
     "execution_count": 22,
     "metadata": {},
     "output_type": "execute_result"
    }
   ],
   "source": [
    "df[df.duplicated()]"
   ]
  },
  {
   "cell_type": "markdown",
   "id": "c4ce2020-4c6a-404b-b328-4192085eff94",
   "metadata": {},
   "source": [
    "We can see that we have a lot bof duplicate values out here. Since duplicate values dont contribute to the Data Analysis process. We are going to drop them."
   ]
  },
  {
   "cell_type": "code",
   "execution_count": 23,
   "id": "c52beb93-fc03-4b95-bf8a-1f3b1cf669ff",
   "metadata": {
    "tags": []
   },
   "outputs": [],
   "source": [
    "# Dropping the duplicates\n",
    "df.drop_duplicates(inplace=True)"
   ]
  },
  {
   "cell_type": "code",
   "execution_count": 24,
   "id": "ad0bb92e-467a-42b8-8068-597804773ee7",
   "metadata": {
    "tags": []
   },
   "outputs": [
    {
     "data": {
      "text/plain": [
       "(3007861, 5)"
      ]
     },
     "execution_count": 24,
     "metadata": {},
     "output_type": "execute_result"
    }
   ],
   "source": [
    "df.shape"
   ]
  },
  {
   "cell_type": "markdown",
   "id": "68142fc0-bd48-4572-836f-fd14f6b0efc6",
   "metadata": {},
   "source": [
    "We have succesfully dropped the duplicates."
   ]
  },
  {
   "cell_type": "code",
   "execution_count": 25,
   "id": "af66d2c4-6b47-4978-9105-c92dde2b1ce6",
   "metadata": {
    "tags": []
   },
   "outputs": [
    {
     "data": {
      "text/plain": [
       "1    0.581981\n",
       "2    0.190350\n",
       "3    0.066360\n",
       "5    0.062937\n",
       "6    0.039272\n",
       "4    0.036046\n",
       "0    0.023033\n",
       "7    0.000009\n",
       "9    0.000006\n",
       "8    0.000006\n",
       "Name: passenger_count, dtype: float64"
      ]
     },
     "execution_count": 25,
     "metadata": {},
     "output_type": "execute_result"
    }
   ],
   "source": [
    "#Checking for the contribution of passenger count and payment type to data\n",
    "df['passenger_count'].value_counts(normalize=True)"
   ]
  },
  {
   "cell_type": "code",
   "execution_count": 26,
   "id": "690f5f9c-cffe-4c1f-9573-481b3ad67170",
   "metadata": {
    "tags": []
   },
   "outputs": [
    {
     "data": {
      "text/plain": [
       "1    6.782670e-01\n",
       "2    3.075731e-01\n",
       "3    8.721480e-03\n",
       "4    5.438084e-03\n",
       "5    3.324622e-07\n",
       "Name: payment_type, dtype: float64"
      ]
     },
     "execution_count": 26,
     "metadata": {},
     "output_type": "execute_result"
    }
   ],
   "source": [
    "df['payment_type'].value_counts(normalize=True)"
   ]
  },
  {
   "cell_type": "code",
   "execution_count": 27,
   "id": "b149726d-bb54-490c-912c-94d6e25935e0",
   "metadata": {
    "tags": []
   },
   "outputs": [],
   "source": [
    "#Filtering data\n",
    "#Taking passenger count upto 5\n",
    "df = df[(df['passenger_count']>0) & (df['passenger_count']<6)]\n",
    "#Taking for payment types 1 and 2 which are encoded values for credit card and cash respectively\n",
    "df = df[df['payment_type']<3]"
   ]
  },
  {
   "cell_type": "code",
   "execution_count": 28,
   "id": "32d14b2c-4712-4591-bc5f-f0172a12a9d1",
   "metadata": {
    "tags": []
   },
   "outputs": [
    {
     "data": {
      "text/plain": [
       "(2780283, 5)"
      ]
     },
     "execution_count": 28,
     "metadata": {},
     "output_type": "execute_result"
    }
   ],
   "source": [
    "df.shape"
   ]
  },
  {
   "cell_type": "code",
   "execution_count": 29,
   "id": "0f0c2476-bd4a-452c-adfc-272e1932dffa",
   "metadata": {
    "tags": []
   },
   "outputs": [],
   "source": [
    "df['payment_type'].replace([1,2],['Cred_Card','Cash'],inplace=True)"
   ]
  },
  {
   "cell_type": "code",
   "execution_count": 30,
   "id": "045074b7-f396-47b2-a7c9-546e81fe380b",
   "metadata": {
    "tags": []
   },
   "outputs": [
    {
     "data": {
      "text/html": [
       "<div>\n",
       "<style scoped>\n",
       "    .dataframe tbody tr th:only-of-type {\n",
       "        vertical-align: middle;\n",
       "    }\n",
       "\n",
       "    .dataframe tbody tr th {\n",
       "        vertical-align: top;\n",
       "    }\n",
       "\n",
       "    .dataframe thead th {\n",
       "        text-align: right;\n",
       "    }\n",
       "</style>\n",
       "<table border=\"1\" class=\"dataframe\">\n",
       "  <thead>\n",
       "    <tr style=\"text-align: right;\">\n",
       "      <th></th>\n",
       "      <th>passenger_count</th>\n",
       "      <th>trip_distance</th>\n",
       "      <th>payment_type</th>\n",
       "      <th>fare_amount</th>\n",
       "      <th>duration</th>\n",
       "    </tr>\n",
       "  </thead>\n",
       "  <tbody>\n",
       "    <tr>\n",
       "      <th>0</th>\n",
       "      <td>1</td>\n",
       "      <td>1.20</td>\n",
       "      <td>Cred_Card</td>\n",
       "      <td>6.0</td>\n",
       "      <td>4.800000</td>\n",
       "    </tr>\n",
       "    <tr>\n",
       "      <th>1</th>\n",
       "      <td>1</td>\n",
       "      <td>1.20</td>\n",
       "      <td>Cred_Card</td>\n",
       "      <td>7.0</td>\n",
       "      <td>7.416667</td>\n",
       "    </tr>\n",
       "    <tr>\n",
       "      <th>2</th>\n",
       "      <td>1</td>\n",
       "      <td>0.60</td>\n",
       "      <td>Cred_Card</td>\n",
       "      <td>6.0</td>\n",
       "      <td>6.183333</td>\n",
       "    </tr>\n",
       "    <tr>\n",
       "      <th>3</th>\n",
       "      <td>1</td>\n",
       "      <td>0.80</td>\n",
       "      <td>Cred_Card</td>\n",
       "      <td>5.5</td>\n",
       "      <td>4.850000</td>\n",
       "    </tr>\n",
       "    <tr>\n",
       "      <th>4</th>\n",
       "      <td>1</td>\n",
       "      <td>0.00</td>\n",
       "      <td>Cash</td>\n",
       "      <td>3.5</td>\n",
       "      <td>2.300000</td>\n",
       "    </tr>\n",
       "    <tr>\n",
       "      <th>...</th>\n",
       "      <td>...</td>\n",
       "      <td>...</td>\n",
       "      <td>...</td>\n",
       "      <td>...</td>\n",
       "      <td>...</td>\n",
       "    </tr>\n",
       "    <tr>\n",
       "      <th>6339555</th>\n",
       "      <td>3</td>\n",
       "      <td>2.09</td>\n",
       "      <td>Cred_Card</td>\n",
       "      <td>10.0</td>\n",
       "      <td>14.800000</td>\n",
       "    </tr>\n",
       "    <tr>\n",
       "      <th>6339561</th>\n",
       "      <td>1</td>\n",
       "      <td>4.11</td>\n",
       "      <td>Cred_Card</td>\n",
       "      <td>17.5</td>\n",
       "      <td>21.500000</td>\n",
       "    </tr>\n",
       "    <tr>\n",
       "      <th>6339563</th>\n",
       "      <td>1</td>\n",
       "      <td>2.13</td>\n",
       "      <td>Cred_Card</td>\n",
       "      <td>13.0</td>\n",
       "      <td>19.000000</td>\n",
       "    </tr>\n",
       "    <tr>\n",
       "      <th>6339564</th>\n",
       "      <td>1</td>\n",
       "      <td>2.55</td>\n",
       "      <td>Cred_Card</td>\n",
       "      <td>12.5</td>\n",
       "      <td>16.283333</td>\n",
       "    </tr>\n",
       "    <tr>\n",
       "      <th>6339566</th>\n",
       "      <td>1</td>\n",
       "      <td>0.00</td>\n",
       "      <td>Cred_Card</td>\n",
       "      <td>0.0</td>\n",
       "      <td>1.066667</td>\n",
       "    </tr>\n",
       "  </tbody>\n",
       "</table>\n",
       "<p>2780283 rows × 5 columns</p>\n",
       "</div>"
      ],
      "text/plain": [
       "         passenger_count  trip_distance payment_type  fare_amount   duration\n",
       "0                      1           1.20    Cred_Card          6.0   4.800000\n",
       "1                      1           1.20    Cred_Card          7.0   7.416667\n",
       "2                      1           0.60    Cred_Card          6.0   6.183333\n",
       "3                      1           0.80    Cred_Card          5.5   4.850000\n",
       "4                      1           0.00         Cash          3.5   2.300000\n",
       "...                  ...            ...          ...          ...        ...\n",
       "6339555                3           2.09    Cred_Card         10.0  14.800000\n",
       "6339561                1           4.11    Cred_Card         17.5  21.500000\n",
       "6339563                1           2.13    Cred_Card         13.0  19.000000\n",
       "6339564                1           2.55    Cred_Card         12.5  16.283333\n",
       "6339566                1           0.00    Cred_Card          0.0   1.066667\n",
       "\n",
       "[2780283 rows x 5 columns]"
      ]
     },
     "execution_count": 30,
     "metadata": {},
     "output_type": "execute_result"
    }
   ],
   "source": [
    "df"
   ]
  },
  {
   "cell_type": "markdown",
   "id": "589ed0b0-c1ab-4c8d-8eeb-50e175f12560",
   "metadata": {},
   "source": [
    "The data is now all preprocessed."
   ]
  },
  {
   "cell_type": "markdown",
   "id": "7adc9a2c-903b-45f6-91c4-55fcdfc6db87",
   "metadata": {},
   "source": [
    "Let us check the summary statistics"
   ]
  },
  {
   "cell_type": "code",
   "execution_count": 31,
   "id": "24ed68f5-9a27-4518-beb3-b0b96b1f6dc2",
   "metadata": {
    "tags": []
   },
   "outputs": [
    {
     "data": {
      "text/html": [
       "<div>\n",
       "<style scoped>\n",
       "    .dataframe tbody tr th:only-of-type {\n",
       "        vertical-align: middle;\n",
       "    }\n",
       "\n",
       "    .dataframe tbody tr th {\n",
       "        vertical-align: top;\n",
       "    }\n",
       "\n",
       "    .dataframe thead th {\n",
       "        text-align: right;\n",
       "    }\n",
       "</style>\n",
       "<table border=\"1\" class=\"dataframe\">\n",
       "  <thead>\n",
       "    <tr style=\"text-align: right;\">\n",
       "      <th></th>\n",
       "      <th>passenger_count</th>\n",
       "      <th>trip_distance</th>\n",
       "      <th>fare_amount</th>\n",
       "      <th>duration</th>\n",
       "    </tr>\n",
       "  </thead>\n",
       "  <tbody>\n",
       "    <tr>\n",
       "      <th>count</th>\n",
       "      <td>2.780283e+06</td>\n",
       "      <td>2.780283e+06</td>\n",
       "      <td>2.780283e+06</td>\n",
       "      <td>2.780283e+06</td>\n",
       "    </tr>\n",
       "    <tr>\n",
       "      <th>mean</th>\n",
       "      <td>1.733386e+00</td>\n",
       "      <td>4.536729e+00</td>\n",
       "      <td>1.780567e+01</td>\n",
       "      <td>2.415478e+01</td>\n",
       "    </tr>\n",
       "    <tr>\n",
       "      <th>std</th>\n",
       "      <td>1.176652e+00</td>\n",
       "      <td>4.895890e+00</td>\n",
       "      <td>1.506997e+01</td>\n",
       "      <td>9.260031e+01</td>\n",
       "    </tr>\n",
       "    <tr>\n",
       "      <th>min</th>\n",
       "      <td>1.000000e+00</td>\n",
       "      <td>-2.218000e+01</td>\n",
       "      <td>-5.000000e+02</td>\n",
       "      <td>-2.770367e+03</td>\n",
       "    </tr>\n",
       "    <tr>\n",
       "      <th>25%</th>\n",
       "      <td>1.000000e+00</td>\n",
       "      <td>1.500000e+00</td>\n",
       "      <td>9.000000e+00</td>\n",
       "      <td>9.883333e+00</td>\n",
       "    </tr>\n",
       "    <tr>\n",
       "      <th>50%</th>\n",
       "      <td>1.000000e+00</td>\n",
       "      <td>2.730000e+00</td>\n",
       "      <td>1.300000e+01</td>\n",
       "      <td>1.573333e+01</td>\n",
       "    </tr>\n",
       "    <tr>\n",
       "      <th>75%</th>\n",
       "      <td>2.000000e+00</td>\n",
       "      <td>5.470000e+00</td>\n",
       "      <td>2.100000e+01</td>\n",
       "      <td>2.336667e+01</td>\n",
       "    </tr>\n",
       "    <tr>\n",
       "      <th>max</th>\n",
       "      <td>5.000000e+00</td>\n",
       "      <td>2.628800e+02</td>\n",
       "      <td>4.265000e+03</td>\n",
       "      <td>8.525117e+03</td>\n",
       "    </tr>\n",
       "  </tbody>\n",
       "</table>\n",
       "</div>"
      ],
      "text/plain": [
       "       passenger_count  trip_distance   fare_amount      duration\n",
       "count     2.780283e+06   2.780283e+06  2.780283e+06  2.780283e+06\n",
       "mean      1.733386e+00   4.536729e+00  1.780567e+01  2.415478e+01\n",
       "std       1.176652e+00   4.895890e+00  1.506997e+01  9.260031e+01\n",
       "min       1.000000e+00  -2.218000e+01 -5.000000e+02 -2.770367e+03\n",
       "25%       1.000000e+00   1.500000e+00  9.000000e+00  9.883333e+00\n",
       "50%       1.000000e+00   2.730000e+00  1.300000e+01  1.573333e+01\n",
       "75%       2.000000e+00   5.470000e+00  2.100000e+01  2.336667e+01\n",
       "max       5.000000e+00   2.628800e+02  4.265000e+03  8.525117e+03"
      ]
     },
     "execution_count": 31,
     "metadata": {},
     "output_type": "execute_result"
    }
   ],
   "source": [
    "df.describe()"
   ]
  },
  {
   "cell_type": "markdown",
   "id": "53f804dc-d55c-4372-a482-6ea0565a78ba",
   "metadata": {
    "tags": []
   },
   "source": [
    "We can see the minimum values in negative."
   ]
  },
  {
   "cell_type": "code",
   "execution_count": 32,
   "id": "9117914f-04eb-4093-918c-986a8b879184",
   "metadata": {
    "tags": []
   },
   "outputs": [],
   "source": [
    "df = df[df['trip_distance']>0]\n",
    "df = df[df['fare_amount']>0]\n",
    "df = df[df['duration']>0]"
   ]
  },
  {
   "cell_type": "code",
   "execution_count": 33,
   "id": "9c72feb2-713f-463c-bb17-d5d204b436e6",
   "metadata": {
    "tags": []
   },
   "outputs": [
    {
     "data": {
      "text/html": [
       "<div>\n",
       "<style scoped>\n",
       "    .dataframe tbody tr th:only-of-type {\n",
       "        vertical-align: middle;\n",
       "    }\n",
       "\n",
       "    .dataframe tbody tr th {\n",
       "        vertical-align: top;\n",
       "    }\n",
       "\n",
       "    .dataframe thead th {\n",
       "        text-align: right;\n",
       "    }\n",
       "</style>\n",
       "<table border=\"1\" class=\"dataframe\">\n",
       "  <thead>\n",
       "    <tr style=\"text-align: right;\">\n",
       "      <th></th>\n",
       "      <th>passenger_count</th>\n",
       "      <th>trip_distance</th>\n",
       "      <th>payment_type</th>\n",
       "      <th>fare_amount</th>\n",
       "      <th>duration</th>\n",
       "    </tr>\n",
       "  </thead>\n",
       "  <tbody>\n",
       "    <tr>\n",
       "      <th>0</th>\n",
       "      <td>1</td>\n",
       "      <td>1.20</td>\n",
       "      <td>Cred_Card</td>\n",
       "      <td>6.0</td>\n",
       "      <td>4.800000</td>\n",
       "    </tr>\n",
       "    <tr>\n",
       "      <th>1</th>\n",
       "      <td>1</td>\n",
       "      <td>1.20</td>\n",
       "      <td>Cred_Card</td>\n",
       "      <td>7.0</td>\n",
       "      <td>7.416667</td>\n",
       "    </tr>\n",
       "    <tr>\n",
       "      <th>2</th>\n",
       "      <td>1</td>\n",
       "      <td>0.60</td>\n",
       "      <td>Cred_Card</td>\n",
       "      <td>6.0</td>\n",
       "      <td>6.183333</td>\n",
       "    </tr>\n",
       "    <tr>\n",
       "      <th>3</th>\n",
       "      <td>1</td>\n",
       "      <td>0.80</td>\n",
       "      <td>Cred_Card</td>\n",
       "      <td>5.5</td>\n",
       "      <td>4.850000</td>\n",
       "    </tr>\n",
       "    <tr>\n",
       "      <th>5</th>\n",
       "      <td>1</td>\n",
       "      <td>0.03</td>\n",
       "      <td>Cash</td>\n",
       "      <td>2.5</td>\n",
       "      <td>0.883333</td>\n",
       "    </tr>\n",
       "    <tr>\n",
       "      <th>...</th>\n",
       "      <td>...</td>\n",
       "      <td>...</td>\n",
       "      <td>...</td>\n",
       "      <td>...</td>\n",
       "      <td>...</td>\n",
       "    </tr>\n",
       "    <tr>\n",
       "      <th>6339550</th>\n",
       "      <td>4</td>\n",
       "      <td>2.40</td>\n",
       "      <td>Cred_Card</td>\n",
       "      <td>10.5</td>\n",
       "      <td>12.383333</td>\n",
       "    </tr>\n",
       "    <tr>\n",
       "      <th>6339555</th>\n",
       "      <td>3</td>\n",
       "      <td>2.09</td>\n",
       "      <td>Cred_Card</td>\n",
       "      <td>10.0</td>\n",
       "      <td>14.800000</td>\n",
       "    </tr>\n",
       "    <tr>\n",
       "      <th>6339561</th>\n",
       "      <td>1</td>\n",
       "      <td>4.11</td>\n",
       "      <td>Cred_Card</td>\n",
       "      <td>17.5</td>\n",
       "      <td>21.500000</td>\n",
       "    </tr>\n",
       "    <tr>\n",
       "      <th>6339563</th>\n",
       "      <td>1</td>\n",
       "      <td>2.13</td>\n",
       "      <td>Cred_Card</td>\n",
       "      <td>13.0</td>\n",
       "      <td>19.000000</td>\n",
       "    </tr>\n",
       "    <tr>\n",
       "      <th>6339564</th>\n",
       "      <td>1</td>\n",
       "      <td>2.55</td>\n",
       "      <td>Cred_Card</td>\n",
       "      <td>12.5</td>\n",
       "      <td>16.283333</td>\n",
       "    </tr>\n",
       "  </tbody>\n",
       "</table>\n",
       "<p>2748932 rows × 5 columns</p>\n",
       "</div>"
      ],
      "text/plain": [
       "         passenger_count  trip_distance payment_type  fare_amount   duration\n",
       "0                      1           1.20    Cred_Card          6.0   4.800000\n",
       "1                      1           1.20    Cred_Card          7.0   7.416667\n",
       "2                      1           0.60    Cred_Card          6.0   6.183333\n",
       "3                      1           0.80    Cred_Card          5.5   4.850000\n",
       "5                      1           0.03         Cash          2.5   0.883333\n",
       "...                  ...            ...          ...          ...        ...\n",
       "6339550                4           2.40    Cred_Card         10.5  12.383333\n",
       "6339555                3           2.09    Cred_Card         10.0  14.800000\n",
       "6339561                1           4.11    Cred_Card         17.5  21.500000\n",
       "6339563                1           2.13    Cred_Card         13.0  19.000000\n",
       "6339564                1           2.55    Cred_Card         12.5  16.283333\n",
       "\n",
       "[2748932 rows x 5 columns]"
      ]
     },
     "execution_count": 33,
     "metadata": {},
     "output_type": "execute_result"
    }
   ],
   "source": [
    "df"
   ]
  },
  {
   "cell_type": "code",
   "execution_count": 34,
   "id": "16dd1a7a-8b81-41b0-bbad-b202bd913487",
   "metadata": {
    "tags": []
   },
   "outputs": [
    {
     "data": {
      "text/html": [
       "<div>\n",
       "<style scoped>\n",
       "    .dataframe tbody tr th:only-of-type {\n",
       "        vertical-align: middle;\n",
       "    }\n",
       "\n",
       "    .dataframe tbody tr th {\n",
       "        vertical-align: top;\n",
       "    }\n",
       "\n",
       "    .dataframe thead th {\n",
       "        text-align: right;\n",
       "    }\n",
       "</style>\n",
       "<table border=\"1\" class=\"dataframe\">\n",
       "  <thead>\n",
       "    <tr style=\"text-align: right;\">\n",
       "      <th></th>\n",
       "      <th>passenger_count</th>\n",
       "      <th>trip_distance</th>\n",
       "      <th>fare_amount</th>\n",
       "      <th>duration</th>\n",
       "    </tr>\n",
       "  </thead>\n",
       "  <tbody>\n",
       "    <tr>\n",
       "      <th>count</th>\n",
       "      <td>2.748932e+06</td>\n",
       "      <td>2.748932e+06</td>\n",
       "      <td>2.748932e+06</td>\n",
       "      <td>2.748932e+06</td>\n",
       "    </tr>\n",
       "    <tr>\n",
       "      <th>mean</th>\n",
       "      <td>1.738151e+00</td>\n",
       "      <td>4.583313e+00</td>\n",
       "      <td>1.766835e+01</td>\n",
       "      <td>2.418261e+01</td>\n",
       "    </tr>\n",
       "    <tr>\n",
       "      <th>std</th>\n",
       "      <td>1.179440e+00</td>\n",
       "      <td>4.897806e+00</td>\n",
       "      <td>1.447531e+01</td>\n",
       "      <td>9.272285e+01</td>\n",
       "    </tr>\n",
       "    <tr>\n",
       "      <th>min</th>\n",
       "      <td>1.000000e+00</td>\n",
       "      <td>1.000000e-02</td>\n",
       "      <td>1.000000e-02</td>\n",
       "      <td>1.666667e-02</td>\n",
       "    </tr>\n",
       "    <tr>\n",
       "      <th>25%</th>\n",
       "      <td>1.000000e+00</td>\n",
       "      <td>1.530000e+00</td>\n",
       "      <td>9.000000e+00</td>\n",
       "      <td>9.950000e+00</td>\n",
       "    </tr>\n",
       "    <tr>\n",
       "      <th>50%</th>\n",
       "      <td>1.000000e+00</td>\n",
       "      <td>2.770000e+00</td>\n",
       "      <td>1.300000e+01</td>\n",
       "      <td>1.575000e+01</td>\n",
       "    </tr>\n",
       "    <tr>\n",
       "      <th>75%</th>\n",
       "      <td>2.000000e+00</td>\n",
       "      <td>5.500000e+00</td>\n",
       "      <td>2.100000e+01</td>\n",
       "      <td>2.333333e+01</td>\n",
       "    </tr>\n",
       "    <tr>\n",
       "      <th>max</th>\n",
       "      <td>5.000000e+00</td>\n",
       "      <td>2.628800e+02</td>\n",
       "      <td>4.265000e+03</td>\n",
       "      <td>8.525117e+03</td>\n",
       "    </tr>\n",
       "  </tbody>\n",
       "</table>\n",
       "</div>"
      ],
      "text/plain": [
       "       passenger_count  trip_distance   fare_amount      duration\n",
       "count     2.748932e+06   2.748932e+06  2.748932e+06  2.748932e+06\n",
       "mean      1.738151e+00   4.583313e+00  1.766835e+01  2.418261e+01\n",
       "std       1.179440e+00   4.897806e+00  1.447531e+01  9.272285e+01\n",
       "min       1.000000e+00   1.000000e-02  1.000000e-02  1.666667e-02\n",
       "25%       1.000000e+00   1.530000e+00  9.000000e+00  9.950000e+00\n",
       "50%       1.000000e+00   2.770000e+00  1.300000e+01  1.575000e+01\n",
       "75%       2.000000e+00   5.500000e+00  2.100000e+01  2.333333e+01\n",
       "max       5.000000e+00   2.628800e+02  4.265000e+03  8.525117e+03"
      ]
     },
     "execution_count": 34,
     "metadata": {},
     "output_type": "execute_result"
    }
   ],
   "source": [
    "df.describe()"
   ]
  },
  {
   "cell_type": "code",
   "execution_count": 35,
   "id": "64f12fed-f363-4a96-a56d-378d645a7d83",
   "metadata": {
    "tags": []
   },
   "outputs": [
    {
     "data": {
      "image/png": "[encoded data removed]",
      "text/plain": [
       "<Figure size 640x480 with 1 Axes>"
      ]
     },
     "metadata": {},
     "output_type": "display_data"
    }
   ],
   "source": [
    "#Visualizing the data for outliers\n",
    "\n",
    "plt.hist(df['fare_amount'])\n",
    "plt.show()"
   ]
  },
  {
   "cell_type": "code",
   "execution_count": 36,
   "id": "0ce0a293-3569-44f9-872a-e9cf0c28fcb4",
   "metadata": {
    "tags": []
   },
   "outputs": [
    {
     "data": {
      "image/png": "[encoded data removed]",
      "text/plain": [
       "<Figure size 640x480 with 1 Axes>"
      ]
     },
     "metadata": {},
     "output_type": "display_data"
    }
   ],
   "source": [
    "plt.boxplot(df['fare_amount'])\n",
    "plt.show()"
   ]
  },
  {
   "cell_type": "markdown",
   "id": "e5534bc4-0044-41a5-88a5-4057de1a8c9c",
   "metadata": {},
   "source": [
    "We can see there are a heavy number of outliers present and the data is not at all normally distributed."
   ]
  },
  {
   "cell_type": "code",
   "execution_count": 37,
   "id": "234b05eb-5d92-4822-a6e0-ab2edd8c1070",
   "metadata": {
    "tags": []
   },
   "outputs": [],
   "source": [
    "#Detecting outliers using InterQuartile range\n",
    "for cols in ['trip_distance','fare_amount','duration']:\n",
    "    Q3 = df[cols].quantile(0.75)\n",
    "    Q1 = df[cols].quantile(0.25)\n",
    "    IQR = Q3 - Q1\n",
    "    lower_bound = Q1-(1.5*IQR)\n",
    "    upper_bound = Q3+(1.5*IQR)\n",
    "    \n",
    "    df = df[(df[cols]>=lower_bound) & (df[cols]<=upper_bound)]"
   ]
  },
  {
   "cell_type": "code",
   "execution_count": 38,
   "id": "5b6780bd-958c-467e-a4a7-b47a135f670f",
   "metadata": {
    "tags": []
   },
   "outputs": [
    {
     "data": {
      "text/html": [
       "<div>\n",
       "<style scoped>\n",
       "    .dataframe tbody tr th:only-of-type {\n",
       "        vertical-align: middle;\n",
       "    }\n",
       "\n",
       "    .dataframe tbody tr th {\n",
       "        vertical-align: top;\n",
       "    }\n",
       "\n",
       "    .dataframe thead th {\n",
       "        text-align: right;\n",
       "    }\n",
       "</style>\n",
       "<table border=\"1\" class=\"dataframe\">\n",
       "  <thead>\n",
       "    <tr style=\"text-align: right;\">\n",
       "      <th></th>\n",
       "      <th>passenger_count</th>\n",
       "      <th>trip_distance</th>\n",
       "      <th>payment_type</th>\n",
       "      <th>fare_amount</th>\n",
       "      <th>duration</th>\n",
       "    </tr>\n",
       "  </thead>\n",
       "  <tbody>\n",
       "    <tr>\n",
       "      <th>0</th>\n",
       "      <td>1</td>\n",
       "      <td>1.20</td>\n",
       "      <td>Cred_Card</td>\n",
       "      <td>6.0</td>\n",
       "      <td>4.800000</td>\n",
       "    </tr>\n",
       "    <tr>\n",
       "      <th>1</th>\n",
       "      <td>1</td>\n",
       "      <td>1.20</td>\n",
       "      <td>Cred_Card</td>\n",
       "      <td>7.0</td>\n",
       "      <td>7.416667</td>\n",
       "    </tr>\n",
       "    <tr>\n",
       "      <th>2</th>\n",
       "      <td>1</td>\n",
       "      <td>0.60</td>\n",
       "      <td>Cred_Card</td>\n",
       "      <td>6.0</td>\n",
       "      <td>6.183333</td>\n",
       "    </tr>\n",
       "    <tr>\n",
       "      <th>3</th>\n",
       "      <td>1</td>\n",
       "      <td>0.80</td>\n",
       "      <td>Cred_Card</td>\n",
       "      <td>5.5</td>\n",
       "      <td>4.850000</td>\n",
       "    </tr>\n",
       "    <tr>\n",
       "      <th>5</th>\n",
       "      <td>1</td>\n",
       "      <td>0.03</td>\n",
       "      <td>Cash</td>\n",
       "      <td>2.5</td>\n",
       "      <td>0.883333</td>\n",
       "    </tr>\n",
       "    <tr>\n",
       "      <th>...</th>\n",
       "      <td>...</td>\n",
       "      <td>...</td>\n",
       "      <td>...</td>\n",
       "      <td>...</td>\n",
       "      <td>...</td>\n",
       "    </tr>\n",
       "    <tr>\n",
       "      <th>6339550</th>\n",
       "      <td>4</td>\n",
       "      <td>2.40</td>\n",
       "      <td>Cred_Card</td>\n",
       "      <td>10.5</td>\n",
       "      <td>12.383333</td>\n",
       "    </tr>\n",
       "    <tr>\n",
       "      <th>6339555</th>\n",
       "      <td>3</td>\n",
       "      <td>2.09</td>\n",
       "      <td>Cred_Card</td>\n",
       "      <td>10.0</td>\n",
       "      <td>14.800000</td>\n",
       "    </tr>\n",
       "    <tr>\n",
       "      <th>6339561</th>\n",
       "      <td>1</td>\n",
       "      <td>4.11</td>\n",
       "      <td>Cred_Card</td>\n",
       "      <td>17.5</td>\n",
       "      <td>21.500000</td>\n",
       "    </tr>\n",
       "    <tr>\n",
       "      <th>6339563</th>\n",
       "      <td>1</td>\n",
       "      <td>2.13</td>\n",
       "      <td>Cred_Card</td>\n",
       "      <td>13.0</td>\n",
       "      <td>19.000000</td>\n",
       "    </tr>\n",
       "    <tr>\n",
       "      <th>6339564</th>\n",
       "      <td>1</td>\n",
       "      <td>2.55</td>\n",
       "      <td>Cred_Card</td>\n",
       "      <td>12.5</td>\n",
       "      <td>16.283333</td>\n",
       "    </tr>\n",
       "  </tbody>\n",
       "</table>\n",
       "<p>2378218 rows × 5 columns</p>\n",
       "</div>"
      ],
      "text/plain": [
       "         passenger_count  trip_distance payment_type  fare_amount   duration\n",
       "0                      1           1.20    Cred_Card          6.0   4.800000\n",
       "1                      1           1.20    Cred_Card          7.0   7.416667\n",
       "2                      1           0.60    Cred_Card          6.0   6.183333\n",
       "3                      1           0.80    Cred_Card          5.5   4.850000\n",
       "5                      1           0.03         Cash          2.5   0.883333\n",
       "...                  ...            ...          ...          ...        ...\n",
       "6339550                4           2.40    Cred_Card         10.5  12.383333\n",
       "6339555                3           2.09    Cred_Card         10.0  14.800000\n",
       "6339561                1           4.11    Cred_Card         17.5  21.500000\n",
       "6339563                1           2.13    Cred_Card         13.0  19.000000\n",
       "6339564                1           2.55    Cred_Card         12.5  16.283333\n",
       "\n",
       "[2378218 rows x 5 columns]"
      ]
     },
     "execution_count": 38,
     "metadata": {},
     "output_type": "execute_result"
    }
   ],
   "source": [
    "df"
   ]
  },
  {
   "cell_type": "markdown",
   "id": "b29fdf69-bfcc-476e-98d3-1ad0291a7dc9",
   "metadata": {},
   "source": [
    "As the data is preprocessed we are all set to visualize the data for further Analysis."
   ]
  },
  {
   "cell_type": "code",
   "execution_count": 39,
   "id": "1a2f858b-a1e5-4e81-88fd-50106916d047",
   "metadata": {
    "tags": []
   },
   "outputs": [
    {
     "data": {
      "image/png": "[encoded data removed]",
      "text/plain": [
       "<Figure size 1200x500 with 2 Axes>"
      ]
     },
     "metadata": {},
     "output_type": "display_data"
    }
   ],
   "source": [
    "# Visualizing the data\n",
    "plt.figure(figsize=(12,5))\n",
    "#Fare Amount Distribution\n",
    "plt.subplot(1,2,1)\n",
    "plt.title('Distrinution Of Fare Amount')\n",
    "plt.hist(df[df['payment_type']=='Cred_Card']['fare_amount'], histtype='barstacked', bins=20, color='#FFFF00', edgecolor='red',label='Card')\n",
    "plt.hist(df[df['payment_type']=='Cash']['fare_amount'], histtype='barstacked', bins=20, color='#000000', edgecolor='red',label='Cash')\n",
    "plt.legend()\n",
    "#Trip Distance Distribution\n",
    "plt.subplot(1,2,2)\n",
    "plt.title('Distrinution Of Trip Distance ')\n",
    "plt.hist(df[df['payment_type']=='Cred_Card']['trip_distance'], histtype='barstacked', bins=20, color='#FFFF00', edgecolor='red',label='Card')\n",
    "plt.hist(df[df['payment_type']=='Cash']['trip_distance'], histtype='barstacked', bins=20, color='#000000', edgecolor='red',label='Cash')\n",
    "plt.legend()\n",
    "plt.show()"
   ]
  },
  {
   "cell_type": "code",
   "execution_count": 40,
   "id": "7c95dec6-a22a-41d7-a144-3501c3af2d68",
   "metadata": {
    "tags": []
   },
   "outputs": [
    {
     "data": {
      "text/html": [
       "<div>\n",
       "<style scoped>\n",
       "    .dataframe tbody tr th:only-of-type {\n",
       "        vertical-align: middle;\n",
       "    }\n",
       "\n",
       "    .dataframe tbody tr th {\n",
       "        vertical-align: top;\n",
       "    }\n",
       "\n",
       "    .dataframe thead tr th {\n",
       "        text-align: left;\n",
       "    }\n",
       "\n",
       "    .dataframe thead tr:last-of-type th {\n",
       "        text-align: right;\n",
       "    }\n",
       "</style>\n",
       "<table border=\"1\" class=\"dataframe\">\n",
       "  <thead>\n",
       "    <tr>\n",
       "      <th></th>\n",
       "      <th colspan=\"2\" halign=\"left\">fare_amount</th>\n",
       "      <th colspan=\"2\" halign=\"left\">trip_distance</th>\n",
       "    </tr>\n",
       "    <tr>\n",
       "      <th></th>\n",
       "      <th>mean</th>\n",
       "      <th>std</th>\n",
       "      <th>mean</th>\n",
       "      <th>std</th>\n",
       "    </tr>\n",
       "    <tr>\n",
       "      <th>payment_type</th>\n",
       "      <th></th>\n",
       "      <th></th>\n",
       "      <th></th>\n",
       "      <th></th>\n",
       "    </tr>\n",
       "  </thead>\n",
       "  <tbody>\n",
       "    <tr>\n",
       "      <th>Cash</th>\n",
       "      <td>12.250209</td>\n",
       "      <td>6.246104</td>\n",
       "      <td>2.803716</td>\n",
       "      <td>2.231871</td>\n",
       "    </tr>\n",
       "    <tr>\n",
       "      <th>Cred_Card</th>\n",
       "      <td>13.701903</td>\n",
       "      <td>6.506356</td>\n",
       "      <td>3.230729</td>\n",
       "      <td>2.320528</td>\n",
       "    </tr>\n",
       "  </tbody>\n",
       "</table>\n",
       "</div>"
      ],
      "text/plain": [
       "             fare_amount           trip_distance          \n",
       "                    mean       std          mean       std\n",
       "payment_type                                              \n",
       "Cash           12.250209  6.246104      2.803716  2.231871\n",
       "Cred_Card      13.701903  6.506356      3.230729  2.320528"
      ]
     },
     "execution_count": 40,
     "metadata": {},
     "output_type": "execute_result"
    }
   ],
   "source": [
    "df.groupby('payment_type').agg({'fare_amount':['mean','std'], 'trip_distance':['mean','std']})"
   ]
  },
  {
   "cell_type": "code",
   "execution_count": 41,
   "id": "6571aedc-804a-4f16-b85b-dd4210828f7f",
   "metadata": {},
   "outputs": [
    {
     "data": {
      "image/png": "[encoded data removed]",
      "text/plain": [
       "<Figure size 640x480 with 1 Axes>"
      ]
     },
     "metadata": {},
     "output_type": "display_data"
    }
   ],
   "source": [
    "plt.title('Preference of Payment Type')\n",
    "plt.pie(df['payment_type'].value_counts(normalize=True), labels = df['payment_type'].value_counts().index, startangle=90,shadow= True, autopct='%1.1f%%'\n",
    "        ,colors=['Red','Yellow'])\n",
    "plt.show()"
   ]
  },
  {
   "cell_type": "markdown",
   "id": "7b07d1e1-3e0d-45e3-a8b6-329fef372538",
   "metadata": {},
   "source": [
    "Now we find out the passenger count and the distribution of the payment method they prefer."
   ]
  },
  {
   "cell_type": "code",
   "execution_count": 42,
   "id": "f3f77a6a-d576-4fdb-bbb5-87d3de894126",
   "metadata": {
    "tags": []
   },
   "outputs": [
    {
     "data": {
      "text/html": [
       "<div>\n",
       "<style scoped>\n",
       "    .dataframe tbody tr th:only-of-type {\n",
       "        vertical-align: middle;\n",
       "    }\n",
       "\n",
       "    .dataframe tbody tr th {\n",
       "        vertical-align: top;\n",
       "    }\n",
       "\n",
       "    .dataframe thead th {\n",
       "        text-align: right;\n",
       "    }\n",
       "</style>\n",
       "<table border=\"1\" class=\"dataframe\">\n",
       "  <thead>\n",
       "    <tr style=\"text-align: right;\">\n",
       "      <th></th>\n",
       "      <th></th>\n",
       "      <th>passenger_count</th>\n",
       "    </tr>\n",
       "    <tr>\n",
       "      <th>payment_type</th>\n",
       "      <th>passenger_count</th>\n",
       "      <th></th>\n",
       "    </tr>\n",
       "  </thead>\n",
       "  <tbody>\n",
       "    <tr>\n",
       "      <th rowspan=\"5\" valign=\"top\">Cash</th>\n",
       "      <th>1</th>\n",
       "      <td>476475</td>\n",
       "    </tr>\n",
       "    <tr>\n",
       "      <th>2</th>\n",
       "      <td>159243</td>\n",
       "    </tr>\n",
       "    <tr>\n",
       "      <th>3</th>\n",
       "      <td>55491</td>\n",
       "    </tr>\n",
       "    <tr>\n",
       "      <th>4</th>\n",
       "      <td>33208</td>\n",
       "    </tr>\n",
       "    <tr>\n",
       "      <th>5</th>\n",
       "      <td>48469</td>\n",
       "    </tr>\n",
       "    <tr>\n",
       "      <th rowspan=\"5\" valign=\"top\">Cred_Card</th>\n",
       "      <th>1</th>\n",
       "      <td>953075</td>\n",
       "    </tr>\n",
       "    <tr>\n",
       "      <th>2</th>\n",
       "      <td>336560</td>\n",
       "    </tr>\n",
       "    <tr>\n",
       "      <th>3</th>\n",
       "      <td>124662</td>\n",
       "    </tr>\n",
       "    <tr>\n",
       "      <th>4</th>\n",
       "      <td>64752</td>\n",
       "    </tr>\n",
       "    <tr>\n",
       "      <th>5</th>\n",
       "      <td>126283</td>\n",
       "    </tr>\n",
       "  </tbody>\n",
       "</table>\n",
       "</div>"
      ],
      "text/plain": [
       "                              passenger_count\n",
       "payment_type passenger_count                 \n",
       "Cash         1                         476475\n",
       "             2                         159243\n",
       "             3                          55491\n",
       "             4                          33208\n",
       "             5                          48469\n",
       "Cred_Card    1                         953075\n",
       "             2                         336560\n",
       "             3                         124662\n",
       "             4                          64752\n",
       "             5                         126283"
      ]
     },
     "execution_count": 42,
     "metadata": {},
     "output_type": "execute_result"
    }
   ],
   "source": [
    "df.groupby(['payment_type','passenger_count'])[['passenger_count']].count()"
   ]
  },
  {
   "cell_type": "markdown",
   "id": "80e498e2-7da2-4187-a3fa-5706058b3306",
   "metadata": {},
   "source": [
    "Creating a new dataframe for further analysis."
   ]
  },
  {
   "cell_type": "code",
   "execution_count": 43,
   "id": "07077b7c-a497-4a29-8c64-001dd6e8b2e0",
   "metadata": {
    "tags": []
   },
   "outputs": [],
   "source": [
    "passenger_count = df.groupby(['payment_type','passenger_count'])[['passenger_count']].count()\n",
    "passenger_count.rename(columns ={'passenger_count':'count'},inplace=True)\n",
    "passenger_count.reset_index(inplace=True)"
   ]
  },
  {
   "cell_type": "code",
   "execution_count": 44,
   "id": "a78b4ea1-8ad3-41f4-875f-9b0e289c31ed",
   "metadata": {
    "tags": []
   },
   "outputs": [
    {
     "data": {
      "text/html": [
       "<div>\n",
       "<style scoped>\n",
       "    .dataframe tbody tr th:only-of-type {\n",
       "        vertical-align: middle;\n",
       "    }\n",
       "\n",
       "    .dataframe tbody tr th {\n",
       "        vertical-align: top;\n",
       "    }\n",
       "\n",
       "    .dataframe thead th {\n",
       "        text-align: right;\n",
       "    }\n",
       "</style>\n",
       "<table border=\"1\" class=\"dataframe\">\n",
       "  <thead>\n",
       "    <tr style=\"text-align: right;\">\n",
       "      <th></th>\n",
       "      <th>payment_type</th>\n",
       "      <th>passenger_count</th>\n",
       "      <th>count</th>\n",
       "    </tr>\n",
       "  </thead>\n",
       "  <tbody>\n",
       "    <tr>\n",
       "      <th>0</th>\n",
       "      <td>Cash</td>\n",
       "      <td>1</td>\n",
       "      <td>476475</td>\n",
       "    </tr>\n",
       "    <tr>\n",
       "      <th>1</th>\n",
       "      <td>Cash</td>\n",
       "      <td>2</td>\n",
       "      <td>159243</td>\n",
       "    </tr>\n",
       "    <tr>\n",
       "      <th>2</th>\n",
       "      <td>Cash</td>\n",
       "      <td>3</td>\n",
       "      <td>55491</td>\n",
       "    </tr>\n",
       "    <tr>\n",
       "      <th>3</th>\n",
       "      <td>Cash</td>\n",
       "      <td>4</td>\n",
       "      <td>33208</td>\n",
       "    </tr>\n",
       "    <tr>\n",
       "      <th>4</th>\n",
       "      <td>Cash</td>\n",
       "      <td>5</td>\n",
       "      <td>48469</td>\n",
       "    </tr>\n",
       "    <tr>\n",
       "      <th>5</th>\n",
       "      <td>Cred_Card</td>\n",
       "      <td>1</td>\n",
       "      <td>953075</td>\n",
       "    </tr>\n",
       "    <tr>\n",
       "      <th>6</th>\n",
       "      <td>Cred_Card</td>\n",
       "      <td>2</td>\n",
       "      <td>336560</td>\n",
       "    </tr>\n",
       "    <tr>\n",
       "      <th>7</th>\n",
       "      <td>Cred_Card</td>\n",
       "      <td>3</td>\n",
       "      <td>124662</td>\n",
       "    </tr>\n",
       "    <tr>\n",
       "      <th>8</th>\n",
       "      <td>Cred_Card</td>\n",
       "      <td>4</td>\n",
       "      <td>64752</td>\n",
       "    </tr>\n",
       "    <tr>\n",
       "      <th>9</th>\n",
       "      <td>Cred_Card</td>\n",
       "      <td>5</td>\n",
       "      <td>126283</td>\n",
       "    </tr>\n",
       "  </tbody>\n",
       "</table>\n",
       "</div>"
      ],
      "text/plain": [
       "  payment_type  passenger_count   count\n",
       "0         Cash                1  476475\n",
       "1         Cash                2  159243\n",
       "2         Cash                3   55491\n",
       "3         Cash                4   33208\n",
       "4         Cash                5   48469\n",
       "5    Cred_Card                1  953075\n",
       "6    Cred_Card                2  336560\n",
       "7    Cred_Card                3  124662\n",
       "8    Cred_Card                4   64752\n",
       "9    Cred_Card                5  126283"
      ]
     },
     "execution_count": 44,
     "metadata": {},
     "output_type": "execute_result"
    }
   ],
   "source": [
    "passenger_count"
   ]
  },
  {
   "cell_type": "code",
   "execution_count": 45,
   "id": "cd3860a9-3114-4875-b249-65b7f8278d36",
   "metadata": {
    "tags": []
   },
   "outputs": [],
   "source": [
    "passenger_count['Percentage'] = (passenger_count['count']/passenger_count['count'].sum())*100"
   ]
  },
  {
   "cell_type": "code",
   "execution_count": 46,
   "id": "99c2a4a5-9f44-4e3a-8fd0-e53fe878ad78",
   "metadata": {
    "tags": []
   },
   "outputs": [
    {
     "data": {
      "text/html": [
       "<div>\n",
       "<style scoped>\n",
       "    .dataframe tbody tr th:only-of-type {\n",
       "        vertical-align: middle;\n",
       "    }\n",
       "\n",
       "    .dataframe tbody tr th {\n",
       "        vertical-align: top;\n",
       "    }\n",
       "\n",
       "    .dataframe thead th {\n",
       "        text-align: right;\n",
       "    }\n",
       "</style>\n",
       "<table border=\"1\" class=\"dataframe\">\n",
       "  <thead>\n",
       "    <tr style=\"text-align: right;\">\n",
       "      <th></th>\n",
       "      <th>payment_type</th>\n",
       "      <th>passenger_count</th>\n",
       "      <th>count</th>\n",
       "      <th>Percentage</th>\n",
       "    </tr>\n",
       "  </thead>\n",
       "  <tbody>\n",
       "    <tr>\n",
       "      <th>0</th>\n",
       "      <td>Cash</td>\n",
       "      <td>1</td>\n",
       "      <td>476475</td>\n",
       "      <td>20.034959</td>\n",
       "    </tr>\n",
       "    <tr>\n",
       "      <th>1</th>\n",
       "      <td>Cash</td>\n",
       "      <td>2</td>\n",
       "      <td>159243</td>\n",
       "      <td>6.695896</td>\n",
       "    </tr>\n",
       "    <tr>\n",
       "      <th>2</th>\n",
       "      <td>Cash</td>\n",
       "      <td>3</td>\n",
       "      <td>55491</td>\n",
       "      <td>2.333302</td>\n",
       "    </tr>\n",
       "    <tr>\n",
       "      <th>3</th>\n",
       "      <td>Cash</td>\n",
       "      <td>4</td>\n",
       "      <td>33208</td>\n",
       "      <td>1.396340</td>\n",
       "    </tr>\n",
       "    <tr>\n",
       "      <th>4</th>\n",
       "      <td>Cash</td>\n",
       "      <td>5</td>\n",
       "      <td>48469</td>\n",
       "      <td>2.038039</td>\n",
       "    </tr>\n",
       "    <tr>\n",
       "      <th>5</th>\n",
       "      <td>Cred_Card</td>\n",
       "      <td>1</td>\n",
       "      <td>953075</td>\n",
       "      <td>40.075174</td>\n",
       "    </tr>\n",
       "    <tr>\n",
       "      <th>6</th>\n",
       "      <td>Cred_Card</td>\n",
       "      <td>2</td>\n",
       "      <td>336560</td>\n",
       "      <td>14.151772</td>\n",
       "    </tr>\n",
       "    <tr>\n",
       "      <th>7</th>\n",
       "      <td>Cred_Card</td>\n",
       "      <td>3</td>\n",
       "      <td>124662</td>\n",
       "      <td>5.241824</td>\n",
       "    </tr>\n",
       "    <tr>\n",
       "      <th>8</th>\n",
       "      <td>Cred_Card</td>\n",
       "      <td>4</td>\n",
       "      <td>64752</td>\n",
       "      <td>2.722711</td>\n",
       "    </tr>\n",
       "    <tr>\n",
       "      <th>9</th>\n",
       "      <td>Cred_Card</td>\n",
       "      <td>5</td>\n",
       "      <td>126283</td>\n",
       "      <td>5.309984</td>\n",
       "    </tr>\n",
       "  </tbody>\n",
       "</table>\n",
       "</div>"
      ],
      "text/plain": [
       "  payment_type  passenger_count   count  Percentage\n",
       "0         Cash                1  476475   20.034959\n",
       "1         Cash                2  159243    6.695896\n",
       "2         Cash                3   55491    2.333302\n",
       "3         Cash                4   33208    1.396340\n",
       "4         Cash                5   48469    2.038039\n",
       "5    Cred_Card                1  953075   40.075174\n",
       "6    Cred_Card                2  336560   14.151772\n",
       "7    Cred_Card                3  124662    5.241824\n",
       "8    Cred_Card                4   64752    2.722711\n",
       "9    Cred_Card                5  126283    5.309984"
      ]
     },
     "execution_count": 46,
     "metadata": {},
     "output_type": "execute_result"
    }
   ],
   "source": [
    "passenger_count"
   ]
  },
  {
   "cell_type": "markdown",
   "id": "45140b75-20f2-408a-922c-6f2768405266",
   "metadata": {},
   "source": [
    "Creating a custom DataFrame for the visualization"
   ]
  },
  {
   "cell_type": "code",
   "execution_count": 47,
   "id": "04e93373-07ea-49aa-9856-8e5185af2ace",
   "metadata": {
    "tags": []
   },
   "outputs": [
    {
     "data": {
      "text/html": [
       "<div>\n",
       "<style scoped>\n",
       "    .dataframe tbody tr th:only-of-type {\n",
       "        vertical-align: middle;\n",
       "    }\n",
       "\n",
       "    .dataframe tbody tr th {\n",
       "        vertical-align: top;\n",
       "    }\n",
       "\n",
       "    .dataframe thead th {\n",
       "        text-align: right;\n",
       "    }\n",
       "</style>\n",
       "<table border=\"1\" class=\"dataframe\">\n",
       "  <thead>\n",
       "    <tr style=\"text-align: right;\">\n",
       "      <th></th>\n",
       "      <th>Payment_Type</th>\n",
       "      <th>1</th>\n",
       "      <th>2</th>\n",
       "      <th>3</th>\n",
       "      <th>4</th>\n",
       "      <th>5</th>\n",
       "    </tr>\n",
       "  </thead>\n",
       "  <tbody>\n",
       "    <tr>\n",
       "      <th>0</th>\n",
       "      <td>Cred_Card</td>\n",
       "      <td>20.034959</td>\n",
       "      <td>6.695896</td>\n",
       "      <td>2.333302</td>\n",
       "      <td>1.39634</td>\n",
       "      <td>2.038039</td>\n",
       "    </tr>\n",
       "    <tr>\n",
       "      <th>1</th>\n",
       "      <td>Cash</td>\n",
       "      <td>40.075174</td>\n",
       "      <td>14.151772</td>\n",
       "      <td>5.241824</td>\n",
       "      <td>2.722711</td>\n",
       "      <td>5.309984</td>\n",
       "    </tr>\n",
       "  </tbody>\n",
       "</table>\n",
       "</div>"
      ],
      "text/plain": [
       "  Payment_Type          1          2         3         4         5\n",
       "0    Cred_Card  20.034959   6.695896  2.333302   1.39634  2.038039\n",
       "1         Cash  40.075174  14.151772  5.241824  2.722711  5.309984"
      ]
     },
     "execution_count": 47,
     "metadata": {},
     "output_type": "execute_result"
    }
   ],
   "source": [
    "chart_df = pd.DataFrame(columns=['Payment_Type',1,2,3,4,5])\n",
    "chart_df['Payment_Type']=['Cred_Card','Cash']\n",
    "chart_df.iloc[0,1:]=passenger_count.iloc[0:5,-1]\n",
    "chart_df.iloc[1,1:]=passenger_count.iloc[5:,-1]\n",
    "chart_df"
   ]
  },
  {
   "cell_type": "code",
   "execution_count": 48,
   "id": "080ee8da-b35a-434b-a73d-cf166b09ad30",
   "metadata": {
    "tags": []
   },
   "outputs": [
    {
     "data": {
      "image/png": "[encoded data removed]",
      "text/plain": [
       "<Figure size 1500x1000 with 1 Axes>"
      ]
     },
     "metadata": {},
     "output_type": "display_data"
    }
   ],
   "source": [
    "#creating a visalization\n",
    "color_list=['#F2C464','#F7DC6F','#F9E07B','#FCE07C','#FFFF00'] #Color list from dark yellow to light yellow\n",
    "\n",
    "fig, ax = plt.subplots(figsize=(15,10))\n",
    "chart_df.plot(x='Payment_Type',kind='barh',ax=ax,color=color_list,stacked=True,edgecolor='Black')\n",
    "\n",
    "for p in ax.patches:\n",
    "   width= p.get_width()\n",
    "   height= p.get_height()\n",
    "   x, y = p.get_xy()\n",
    "   ax.text(x+width / 2,\n",
    "           y+height / 2,\n",
    "           '{:.0f}%'.format(width),\n",
    "           horizontalalignment='center', \n",
    "           verticalalignment='center')\n",
    "\n",
    "plt.xlabel('Percentage')\n",
    "plt.ylabel('Payment Type')\n",
    "plt.title('Payment Type Distribution')\n",
    "plt.legend(loc='lower right')\n",
    "plt.show()"
   ]
  },
  {
   "cell_type": "markdown",
   "id": "1697578f-5538-414c-9b37-994c31475013",
   "metadata": {},
   "source": [
    "## Hypothesis Testing"
   ]
  },
  {
   "cell_type": "markdown",
   "id": "5d7df4cb-4fd9-4643-bba8-fe8f3431d39d",
   "metadata": {},
   "source": [
    "__NULL HYPOTHESIS:__\n",
    "- There is no difference in average fare between customers who use Credit Card or pay by Cash\n",
    "\n",
    "__ALTERNATE HYPOTHESIS:__\n",
    "- There is a difference in average fare between customers who use Credit card or pay by cash"
   ]
  },
  {
   "cell_type": "markdown",
   "id": "ffa75a77-2cac-4081-bfef-57beaf2253cf",
   "metadata": {},
   "source": [
    "Checking if the Data is Normally Distributed"
   ]
  },
  {
   "cell_type": "code",
   "execution_count": 55,
   "id": "3d3974cd-2780-49f1-94a7-9575a63aa65c",
   "metadata": {
    "tags": []
   },
   "outputs": [
    {
     "data": {
      "image/png": "[encoded data removed]",
      "text/plain": [
       "<Figure size 640x480 with 1 Axes>"
      ]
     },
     "metadata": {},
     "output_type": "display_data"
    }
   ],
   "source": [
    "sm.qqplot(df['fare_amount'],line='45')\n",
    "plt.show()"
   ]
  },
  {
   "cell_type": "markdown",
   "id": "5e50de1d-d136-409c-89dd-5b19898f0c1f",
   "metadata": {
    "tags": []
   },
   "source": [
    "As the distribution is not aligned on the Diagonal Line, the data is not a Normal Distribution."
   ]
  },
  {
   "cell_type": "markdown",
   "id": "f16884ee-2a40-4a46-b7bc-03fb684caf60",
   "metadata": {},
   "source": [
    "Taking in consideration, the facts :\n",
    "- The Dataset is not small\n",
    "- We dont know the Population Standard deviation\n",
    "\n",
    "__We are going to perform T-test__"
   ]
  },
  {
   "cell_type": "markdown",
   "id": "c319fcc5-c2f5-445a-8bc3-e504425ae470",
   "metadata": {},
   "source": [
    "Taking the sample data of Payment by Card"
   ]
  },
  {
   "cell_type": "code",
   "execution_count": 57,
   "id": "b6e62778-746b-4a7a-9f82-55af8a875bc4",
   "metadata": {
    "tags": []
   },
   "outputs": [],
   "source": [
    "Card_Sample = df[df['payment_type']=='Cred_Card']['fare_amount']"
   ]
  },
  {
   "cell_type": "markdown",
   "id": "bf7fb3b1-5082-483c-adf5-865a90203c8b",
   "metadata": {},
   "source": [
    "Taking the sample data of payment by Cash"
   ]
  },
  {
   "cell_type": "code",
   "execution_count": 58,
   "id": "c0a7f6fb-8c9f-427b-a1e0-f2bd7804dbe2",
   "metadata": {
    "tags": []
   },
   "outputs": [],
   "source": [
    "Cash_Sample = df[df['payment_type']=='Cash']['fare_amount']"
   ]
  },
  {
   "cell_type": "markdown",
   "id": "e87b71d0-cf9c-4350-b421-258f9aad7490",
   "metadata": {},
   "source": [
    "__Performing the T-test__"
   ]
  },
  {
   "cell_type": "code",
   "execution_count": 70,
   "id": "fa600228-cc56-44d5-94c9-0b6667de0b27",
   "metadata": {
    "tags": []
   },
   "outputs": [
    {
     "name": "stdout",
     "output_type": "stream",
     "text": [
      "The T-Statistic is: 165.59915491544626,\n",
      "The P_value is: 0.0\n"
     ]
    }
   ],
   "source": [
    "t_stats, P_value = st.ttest_ind(a=Card_Sample, b=Cash_Sample,equal_var=False)\n",
    "print(f'The T-Statistic is: {t_stats},\\nThe P_value is: {P_value}')"
   ]
  },
  {
   "cell_type": "markdown",
   "id": "3ef1de16-5661-459e-b018-e7632a34dd64",
   "metadata": {},
   "source": [
    "As the __T-Statistic Value__ is approximately __165__\n",
    "and the __P_value__ is less than __0.05__\n",
    "\n",
    "We can conclude that:\n",
    "- The Null Hypothesis is rejected.\n",
    "- The Alternate Hypothesis is accepted.\n",
    "\n",
    "__It suggests that there is indeed a significant difference between average fare of the two payment types.__"
   ]
  }
 ],
 "metadata": {
  "kernelspec": {
   "display_name": "Python 3 (ipykernel)",
   "language": "python",
   "name": "python3"
  },
  "language_info": {
   "codemirror_mode": {
    "name": "ipython",
    "version": 3
   },
   "file_extension": ".py",
   "mimetype": "text/x-python",
   "name": "python",
   "nbconvert_exporter": "python",
   "pygments_lexer": "ipython3",
   "version": "3.11.4"
  }
 },
 "nbformat": 4,
 "nbformat_minor": 5
}
